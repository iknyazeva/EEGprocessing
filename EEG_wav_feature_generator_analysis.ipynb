{
 "cells": [
  {
   "cell_type": "markdown",
   "metadata": {},
   "source": [
    "### Генерация признаков и классификация только на вейвлет преобразовании"
   ]
  },
  {
   "cell_type": "code",
   "execution_count": 1,
   "metadata": {
    "collapsed": false
   },
   "outputs": [],
   "source": [
    "import pandas as pd\n",
    "import numpy as np\n",
    "import matplotlib.pyplot as plt\n",
    "import pickle\n",
    "from sklearn.feature_selection import f_classif\n",
    "%matplotlib inline"
   ]
  },
  {
   "cell_type": "code",
   "execution_count": 2,
   "metadata": {
    "collapsed": false
   },
   "outputs": [
    {
     "data": {
      "text/plain": [
       "dict_keys(['list_EmptySl', 'Table', 'chanNames', 'list_Mem', 'list_Sl', 'list_Empty', 'list_Im'])"
      ]
     },
     "execution_count": 2,
     "metadata": {},
     "output_type": "execute_result"
    }
   ],
   "source": [
    "filename = 'DATA/EEG_MentalInfo.pickle'\n",
    "with open(filename, 'rb') as f:\n",
    "    EEG_info = pickle.load(f)\n",
    "EEG_info.keys()    "
   ]
  },
  {
   "cell_type": "code",
   "execution_count": 3,
   "metadata": {
    "collapsed": true
   },
   "outputs": [],
   "source": [
    "Im_names = EEG_info['list_Im']\n",
    "Mem_names = EEG_info['list_Mem']\n",
    "Sl_names = EEG_info['list_Sl']\n",
    "Empty_names = EEG_info['list_Empty'] \n",
    "EmptySl_names = EEG_info['list_EmptySl']\n",
    "chan_names = EEG_info['chanNames']"
   ]
  },
  {
   "cell_type": "code",
   "execution_count": 4,
   "metadata": {
    "collapsed": false
   },
   "outputs": [
    {
     "data": {
      "image/png": "[encoded data removed]",
      "text/plain": [
       "<Figure size 432x288 with 2 Axes>"
      ]
     },
     "metadata": {},
     "output_type": "display_data"
    }
   ],
   "source": [
    "name = Im_names[6]\n",
    "resname = 'ResultsData/'+ 'ResultD000'+str(name)+'.pickle'\n",
    "with open(resname, 'rb') as f:\n",
    "    res = pickle.load(f)\n",
    "wt = res['normWT']\n",
    "ch_id = 10\n",
    "plt.contourf(res['timeExp(s)'], res['freq'], wt[:,:,ch_id], cmap= plt.cm.jet ); plt.colorbar()\n",
    "plt.title('WT transform for patient with id {}, channel {}'.format(name, chan_names[ch_id]));"
   ]
  },
  {
   "cell_type": "code",
   "execution_count": 5,
   "metadata": {
    "collapsed": false
   },
   "outputs": [
    {
     "data": {
      "image/png": "[encoded data removed]",
      "text/plain": [
       "<Figure size 432x288 with 1 Axes>"
      ]
     },
     "metadata": {},
     "output_type": "display_data"
    }
   ],
   "source": [
    "name = Sl_names[0]\n",
    "resname = 'ResultsData/'+ 'ResultD000'+str(name)+'.pickle'\n",
    "with open(resname, 'rb') as f:\n",
    "    res = pickle.load(f)\n",
    "plt.contourf(res['timeExp(s)'], res['freq'], res['normWT'][:,:,18], cmap=plt.cm.jet ); plt.title('WT transform for {}'.format(name));"
   ]
  },
  {
   "cell_type": "code",
   "execution_count": 6,
   "metadata": {
    "collapsed": true
   },
   "outputs": [],
   "source": [
    "def wav_feature_generator(name, start = 800, end = 3000, loadData = True):\n",
    "    \"\"\"\n",
    "    function for generation features from wt images\n",
    "    take name of fail with results\n",
    "    start and time for averaging\n",
    "    return feature vector\n",
    "    \"\"\"\n",
    "    \n",
    "    if loadData:\n",
    "        resname = 'ResultsData/'+ 'ResultD000'+str(name)+'.pickle'\n",
    "        with open(resname, 'rb') as f:\n",
    "            res = pickle.load(f)\n",
    "        wt = res['normWT'] \n",
    "    else:\n",
    "        wt = name  \n",
    "      \n",
    "    mean_theta = np.mean(np.mean(wt[0:3,start:end,:], axis = 1), axis = 0).reshape(1,-1)\n",
    "    mean_alpha1 = np.mean(np.mean(wt[3:5,start:end,:], axis = 1), axis = 0).reshape(1,-1)\n",
    "    mean_alpha2 = np.mean(np.mean(wt[5:7,start:end,:], axis = 1), axis = 0).reshape(1,-1)\n",
    "    mean_beta1 = np.mean(wt[7,start:end,:], axis = 0).reshape(1,-1)\n",
    "    mean_beta2 = np.mean(np.mean(wt[8:,start:end,:], axis = 1), axis = 0).reshape(1,-1)\n",
    "\n",
    "    wav_features = np.concatenate([mean_theta, mean_alpha1,mean_alpha2, mean_beta1, mean_beta2], axis = 1)     \n",
    "    return np.squeeze(wav_features)    "
   ]
  },
  {
   "cell_type": "code",
   "execution_count": 7,
   "metadata": {
    "collapsed": true
   },
   "outputs": [],
   "source": [
    "def findIdxFromTime(times, time = [1.5,2.5]):\n",
    "    \"\"\"\n",
    "    take time in second and return series index\n",
    "    \"\"\"\n",
    "    idx  = [np.argmin(np.abs(times *0.002 - t)) for t in time]\n",
    "    return idx"
   ]
  },
  {
   "cell_type": "code",
   "execution_count": 8,
   "metadata": {
    "collapsed": false
   },
   "outputs": [
    {
     "data": {
      "text/plain": [
       "[750, 1250]"
      ]
     },
     "execution_count": 8,
     "metadata": {},
     "output_type": "execute_result"
    }
   ],
   "source": [
    "times = np.arange(3480)\n",
    "findIdxFromTime(times, time = [1.5,2.5])"
   ]
  },
  {
   "cell_type": "code",
   "execution_count": 9,
   "metadata": {
    "collapsed": false
   },
   "outputs": [],
   "source": [
    "def process_group_wt(group, times, time = [1,2]):\n",
    "    \n",
    "    start, end = findIdxFromTime(times, time)\n",
    "    Features = []\n",
    "    \n",
    "    for name in group:\n",
    "        features  = wav_feature_generator(name, start, end)\n",
    "        Features.append(features)\n",
    "    return np.array(Features)       "
   ]
  },
  {
   "cell_type": "code",
   "execution_count": 12,
   "metadata": {
    "collapsed": false
   },
   "outputs": [
    {
     "data": {
      "text/plain": [
       "(28, 95)"
      ]
     },
     "execution_count": 12,
     "metadata": {},
     "output_type": "execute_result"
    }
   ],
   "source": [
    "#посмотрим на какой-нибудь группе\n",
    "time_interval = [1,2]\n",
    "testWT = process_group_wt(Mem_names, times, time = time_interval)\n",
    "testWT.shape"
   ]
  },
  {
   "cell_type": "code",
   "execution_count": 10,
   "metadata": {
    "collapsed": false
   },
   "outputs": [],
   "source": [
    "rithms = ['theta','alpha1','alpha2', 'beta1', 'beta2']\n",
    "iterables = [rithms, chan_names]\n",
    "indexCol = pd.MultiIndex.from_product(iterables, names=['rhitms', 'channels'])"
   ]
  },
  {
   "cell_type": "code",
   "execution_count": 14,
   "metadata": {
    "collapsed": false
   },
   "outputs": [
    {
     "data": {
      "text/html": [
       "<div>\n",
       "<style scoped>\n",
       "    .dataframe tbody tr th:only-of-type {\n",
       "        vertical-align: middle;\n",
       "    }\n",
       "\n",
       "    .dataframe tbody tr th {\n",
       "        vertical-align: top;\n",
       "    }\n",
       "\n",
       "    .dataframe thead th {\n",
       "        text-align: right;\n",
       "    }\n",
       "</style>\n",
       "<table border=\"1\" class=\"dataframe\">\n",
       "  <thead>\n",
       "    <tr style=\"text-align: right;\">\n",
       "      <th></th>\n",
       "      <th>(alpha2, T5)</th>\n",
       "      <th>(theta, O2)</th>\n",
       "      <th>(beta1, F4)</th>\n",
       "      <th>(alpha1, P3)</th>\n",
       "      <th>(alpha2, Pz)</th>\n",
       "      <th>(beta1, F4)</th>\n",
       "      <th>(alpha2, Cz)</th>\n",
       "      <th>(alpha1, F8)</th>\n",
       "      <th>(theta, F7)</th>\n",
       "      <th>(beta2, P3)</th>\n",
       "    </tr>\n",
       "  </thead>\n",
       "  <tbody>\n",
       "    <tr>\n",
       "      <th>Im</th>\n",
       "      <td>-0.457407</td>\n",
       "      <td>0.700304</td>\n",
       "      <td>-0.049806</td>\n",
       "      <td>-0.418981</td>\n",
       "      <td>-0.071419</td>\n",
       "      <td>-0.049806</td>\n",
       "      <td>-0.127297</td>\n",
       "      <td>0.854622</td>\n",
       "      <td>1.712086</td>\n",
       "      <td>0.070077</td>\n",
       "    </tr>\n",
       "    <tr>\n",
       "      <th>Mem</th>\n",
       "      <td>0.699702</td>\n",
       "      <td>0.389982</td>\n",
       "      <td>-0.793801</td>\n",
       "      <td>-0.415462</td>\n",
       "      <td>0.146113</td>\n",
       "      <td>-0.793801</td>\n",
       "      <td>-0.430129</td>\n",
       "      <td>0.365220</td>\n",
       "      <td>0.553651</td>\n",
       "      <td>0.143967</td>\n",
       "    </tr>\n",
       "    <tr>\n",
       "      <th>Sl</th>\n",
       "      <td>-1.671664</td>\n",
       "      <td>0.823913</td>\n",
       "      <td>-1.386238</td>\n",
       "      <td>-0.135942</td>\n",
       "      <td>-2.174468</td>\n",
       "      <td>-1.386238</td>\n",
       "      <td>-1.944984</td>\n",
       "      <td>-0.752085</td>\n",
       "      <td>-0.015659</td>\n",
       "      <td>-0.998204</td>\n",
       "    </tr>\n",
       "    <tr>\n",
       "      <th>Empty</th>\n",
       "      <td>0.455725</td>\n",
       "      <td>-0.207037</td>\n",
       "      <td>-0.644998</td>\n",
       "      <td>-0.222841</td>\n",
       "      <td>0.270325</td>\n",
       "      <td>-0.644998</td>\n",
       "      <td>-0.508785</td>\n",
       "      <td>0.130343</td>\n",
       "      <td>0.501756</td>\n",
       "      <td>-0.138916</td>\n",
       "    </tr>\n",
       "    <tr>\n",
       "      <th>EmptySl</th>\n",
       "      <td>-0.470959</td>\n",
       "      <td>3.017728</td>\n",
       "      <td>-0.892666</td>\n",
       "      <td>1.771796</td>\n",
       "      <td>-0.227796</td>\n",
       "      <td>-0.892666</td>\n",
       "      <td>-0.891369</td>\n",
       "      <td>-0.602992</td>\n",
       "      <td>0.272708</td>\n",
       "      <td>-0.664941</td>\n",
       "    </tr>\n",
       "  </tbody>\n",
       "</table>\n",
       "</div>"
      ],
      "text/plain": [
       "         (alpha2, T5)  (theta, O2)  (beta1, F4)  (alpha1, P3)  (alpha2, Pz)  \\\n",
       "Im          -0.457407     0.700304    -0.049806     -0.418981     -0.071419   \n",
       "Mem          0.699702     0.389982    -0.793801     -0.415462      0.146113   \n",
       "Sl          -1.671664     0.823913    -1.386238     -0.135942     -2.174468   \n",
       "Empty        0.455725    -0.207037    -0.644998     -0.222841      0.270325   \n",
       "EmptySl     -0.470959     3.017728    -0.892666      1.771796     -0.227796   \n",
       "\n",
       "         (beta1, F4)  (alpha2, Cz)  (alpha1, F8)  (theta, F7)  (beta2, P3)  \n",
       "Im         -0.049806     -0.127297      0.854622     1.712086     0.070077  \n",
       "Mem        -0.793801     -0.430129      0.365220     0.553651     0.143967  \n",
       "Sl         -1.386238     -1.944984     -0.752085    -0.015659    -0.998204  \n",
       "Empty      -0.644998     -0.508785      0.130343     0.501756    -0.138916  \n",
       "EmptySl    -0.892666     -0.891369     -0.602992     0.272708    -0.664941  "
      ]
     },
     "execution_count": 14,
     "metadata": {},
     "output_type": "execute_result"
    }
   ],
   "source": [
    "#Посмотрим как выглядят признаки, выберем несколько случайно\n",
    "numF = 10\n",
    "bestF = np.random.randint(0, 94,numF)\n",
    "time_interval = [1,2]\n",
    "ListNames = [Im_names,Mem_names, Sl_names, Empty_names, EmptySl_names]\n",
    "wtFeaturesList = [process_group_wt(names, times, time = time_interval) for names in ListNames]\n",
    "wtMeans = [np.mean(wtFeatures[:,bestF], axis = 0) for wtFeatures in wtFeaturesList]\n",
    "colnames = [indexCol[i] for i in bestF]\n",
    "df = pd.DataFrame(wtMeans, index=['Im','Mem','Sl','Empty', 'EmptySl'], columns=colnames)\n",
    "df"
   ]
  },
  {
   "cell_type": "markdown",
   "metadata": {},
   "source": [
    "### Выделение значимых различий между двумя группами\n",
    "Сделаем тест на разницу между средними и найдем те признаки, в которых она проявляется. В качестве теста возьмем F-тест.\n"
   ]
  },
  {
   "cell_type": "code",
   "execution_count": 15,
   "metadata": {
    "collapsed": true
   },
   "outputs": [],
   "source": [
    "from sklearn.feature_selection import f_classif"
   ]
  },
  {
   "cell_type": "code",
   "execution_count": 31,
   "metadata": {
    "collapsed": false
   },
   "outputs": [
    {
     "name": "stdout",
     "output_type": "stream",
     "text": [
      "Time interval: [2, 3] Max score: 58.084302167110174 signif number 71\n"
     ]
    },
    {
     "data": {
      "image/png": "[encoded data removed]",
      "text/plain": [
       "<Figure size 432x288 with 1 Axes>"
      ]
     },
     "metadata": {},
     "output_type": "display_data"
    }
   ],
   "source": [
    "#для разницы в сенсорном и ментальном внимании \n",
    "time_interval = [2,3]\n",
    "ListNames = [Im_names,Mem_names, Sl_names, Empty_names, EmptySl_names]\n",
    "wtFeaturesList = [process_group_wt(names, times, time = time_interval) for names in ListNames]\n",
    "wtImMem = np.concatenate(wtFeaturesList[:3])\n",
    "#y2 = np.concatenate([np.zeros(len(Im_names)), np.ones(len(Mem_names))])\n",
    "y2 = np.concatenate([np.zeros(len(Im_names)+len(Mem_names)), np.ones(len(Sl_names))])\n",
    "\n",
    "scoresF = f_classif(wtImMem, y2)\n",
    "numF = sum(scoresF[1]<0.05)\n",
    "print('Time interval:',time_interval,'Max score:', np.max(scoresF[0]),'signif number', numF)\n",
    "\n",
    "#plot graph\n",
    "if numF>20 : numF=20 \n",
    "bestF = np.argsort(scoresF[0])[::-1][:numF]\n",
    "ordCols = [indexCol[i] for i in bestF]\n",
    "\n",
    "y_pos2 = np.arange(numF)\n",
    "plt.barh(y_pos2, scoresF[0][bestF], align='center')\n",
    "plt.ylim((-1, numF))\n",
    "plt.yticks(y_pos2, ordCols)\n",
    "plt.xlabel('Fisher Scores', fontsize=15)\n",
    "plt.title('Ranking of  WT features for Mental and Sensor for time from {} to {} sec'.format(time_interval[0],time_interval[1]), fontsize=15);"
   ]
  },
  {
   "cell_type": "code",
   "execution_count": 28,
   "metadata": {
    "collapsed": true
   },
   "outputs": [],
   "source": [
    "#сделайте то же самое для воображения и воспоминания"
   ]
  },
  {
   "cell_type": "code",
   "execution_count": 32,
   "metadata": {
    "collapsed": false
   },
   "outputs": [
    {
     "name": "stdout",
     "output_type": "stream",
     "text": [
      "Time interval: [1, 2] Max score: 42.08275199672976 signif number 57\n",
      "Time interval: [2, 3] Max score: 58.084302167110174 signif number 71\n",
      "Time interval: [3, 4] Max score: 49.67583424864806 signif number 75\n",
      "Time interval: [5, 6] Max score: 42.38837081828891 signif number 71\n",
      "Time interval: [5.5, 6.5] Max score: 42.56705501909504 signif number 69\n"
     ]
    }
   ],
   "source": [
    "#Посчитаем для всех временных интервалов и запишем данные в табличку\n",
    "writer = pd.ExcelWriter('ExcelReports/SensorVsMentalWT.xlsx')\n",
    "time_intervals = [[1,2],[2,3],[3,4],[5,6],[5.5,6.5]]\n",
    "for time_interval in time_intervals:\n",
    "    ListNames = [Im_names,Mem_names, Sl_names, Empty_names, EmptySl_names]\n",
    "    wtFeaturesList = [process_group_wt(names, times, time = time_interval) for names in ListNames]\n",
    "    wtComp = np.concatenate(wtFeaturesList[:3])\n",
    "\n",
    "    y2 = np.concatenate([np.zeros(len(Im_names)+len(Mem_names)), np.ones(len(Sl_names))])\n",
    "    scoresF = f_classif(wtComp, y2)\n",
    "    numF = sum(scoresF[1]<0.05)\n",
    "    print('Time interval:',time_interval,'Max score:', np.max(scoresF[0]),'signif number', numF)\n",
    "\n",
    "    bestF = np.argsort(scoresF[0])[::-1][:numF]\n",
    "    wtMeans = [np.mean(wtFeatures[:,bestF], axis = 0) for wtFeatures in wtFeaturesList]\n",
    "    colnames = [indexCol[i] for i in bestF]\n",
    "\n",
    "   \n",
    "    data = np.vstack([wtMeans, scoresF[0][bestF]])\n",
    "    df = pd.DataFrame(data, index=['Im','Mem','Sl','Empty', 'EmptySl','F_score'], columns=colnames)\n",
    "    df.to_excel(writer,'Time({}-{})s'.format(time_interval[0],time_interval[1]),float_format = '%.2f')\n",
    "writer.save()   "
   ]
  },
  {
   "cell_type": "code",
   "execution_count": 33,
   "metadata": {
    "collapsed": false
   },
   "outputs": [
    {
     "data": {
      "text/html": [
       "<div>\n",
       "<style scoped>\n",
       "    .dataframe tbody tr th:only-of-type {\n",
       "        vertical-align: middle;\n",
       "    }\n",
       "\n",
       "    .dataframe tbody tr th {\n",
       "        vertical-align: top;\n",
       "    }\n",
       "\n",
       "    .dataframe thead th {\n",
       "        text-align: right;\n",
       "    }\n",
       "</style>\n",
       "<table border=\"1\" class=\"dataframe\">\n",
       "  <thead>\n",
       "    <tr style=\"text-align: right;\">\n",
       "      <th></th>\n",
       "      <th>(beta1, T6)</th>\n",
       "      <th>(alpha2, T4)</th>\n",
       "      <th>(alpha2, T6)</th>\n",
       "      <th>(alpha2, C4)</th>\n",
       "      <th>(beta1, P4)</th>\n",
       "      <th>(alpha2, Fp2)</th>\n",
       "      <th>(alpha2, T3)</th>\n",
       "      <th>(alpha2, T5)</th>\n",
       "      <th>(alpha2, Pz)</th>\n",
       "      <th>(beta2, P3)</th>\n",
       "      <th>...</th>\n",
       "      <th>(beta2, T3)</th>\n",
       "      <th>(alpha1, F8)</th>\n",
       "      <th>(beta2, Cz)</th>\n",
       "      <th>(beta2, F7)</th>\n",
       "      <th>(alpha1, C4)</th>\n",
       "      <th>(beta2, F4)</th>\n",
       "      <th>(beta2, Fp2)</th>\n",
       "      <th>(alpha1, Pz)</th>\n",
       "      <th>(beta2, C3)</th>\n",
       "      <th>(alpha1, O2)</th>\n",
       "    </tr>\n",
       "  </thead>\n",
       "  <tbody>\n",
       "    <tr>\n",
       "      <th>Im</th>\n",
       "      <td>-0.216889</td>\n",
       "      <td>0.308794</td>\n",
       "      <td>-0.234722</td>\n",
       "      <td>0.067900</td>\n",
       "      <td>-0.437859</td>\n",
       "      <td>-0.579578</td>\n",
       "      <td>-0.399640</td>\n",
       "      <td>-0.868180</td>\n",
       "      <td>0.196121</td>\n",
       "      <td>-0.384780</td>\n",
       "      <td>...</td>\n",
       "      <td>-0.086913</td>\n",
       "      <td>1.003521</td>\n",
       "      <td>-0.659364</td>\n",
       "      <td>-0.295745</td>\n",
       "      <td>0.817105</td>\n",
       "      <td>-0.502984</td>\n",
       "      <td>-0.386514</td>\n",
       "      <td>2.602600</td>\n",
       "      <td>-0.560165</td>\n",
       "      <td>5.390284</td>\n",
       "    </tr>\n",
       "    <tr>\n",
       "      <th>Mem</th>\n",
       "      <td>-0.092854</td>\n",
       "      <td>0.438611</td>\n",
       "      <td>0.960703</td>\n",
       "      <td>0.424066</td>\n",
       "      <td>0.046368</td>\n",
       "      <td>-0.176577</td>\n",
       "      <td>-0.485614</td>\n",
       "      <td>0.709017</td>\n",
       "      <td>1.263619</td>\n",
       "      <td>-0.469286</td>\n",
       "      <td>...</td>\n",
       "      <td>0.014217</td>\n",
       "      <td>1.589176</td>\n",
       "      <td>-0.910467</td>\n",
       "      <td>-0.355198</td>\n",
       "      <td>1.765154</td>\n",
       "      <td>-0.548213</td>\n",
       "      <td>-0.144132</td>\n",
       "      <td>3.035300</td>\n",
       "      <td>-0.819860</td>\n",
       "      <td>4.996861</td>\n",
       "    </tr>\n",
       "    <tr>\n",
       "      <th>Sl</th>\n",
       "      <td>-3.031139</td>\n",
       "      <td>-1.688180</td>\n",
       "      <td>-3.854093</td>\n",
       "      <td>-2.597837</td>\n",
       "      <td>-2.974110</td>\n",
       "      <td>-2.733819</td>\n",
       "      <td>-1.852663</td>\n",
       "      <td>-3.144554</td>\n",
       "      <td>-3.089729</td>\n",
       "      <td>-1.595875</td>\n",
       "      <td>...</td>\n",
       "      <td>-0.555310</td>\n",
       "      <td>-1.131152</td>\n",
       "      <td>-1.405850</td>\n",
       "      <td>-0.773814</td>\n",
       "      <td>-0.943096</td>\n",
       "      <td>-1.016929</td>\n",
       "      <td>-0.713967</td>\n",
       "      <td>-1.112529</td>\n",
       "      <td>-1.153985</td>\n",
       "      <td>-1.004899</td>\n",
       "    </tr>\n",
       "    <tr>\n",
       "      <th>Empty</th>\n",
       "      <td>-0.632753</td>\n",
       "      <td>-0.355260</td>\n",
       "      <td>-0.251564</td>\n",
       "      <td>-0.415642</td>\n",
       "      <td>-0.556649</td>\n",
       "      <td>-0.714685</td>\n",
       "      <td>-0.455274</td>\n",
       "      <td>-0.018709</td>\n",
       "      <td>0.092942</td>\n",
       "      <td>-0.863712</td>\n",
       "      <td>...</td>\n",
       "      <td>-0.342149</td>\n",
       "      <td>1.170182</td>\n",
       "      <td>-1.036957</td>\n",
       "      <td>-0.130601</td>\n",
       "      <td>0.799818</td>\n",
       "      <td>-0.601763</td>\n",
       "      <td>-0.451640</td>\n",
       "      <td>1.163915</td>\n",
       "      <td>-1.129080</td>\n",
       "      <td>1.149764</td>\n",
       "    </tr>\n",
       "    <tr>\n",
       "      <th>EmptySl</th>\n",
       "      <td>-1.580258</td>\n",
       "      <td>-1.608761</td>\n",
       "      <td>-2.786218</td>\n",
       "      <td>-1.981914</td>\n",
       "      <td>-1.808417</td>\n",
       "      <td>-2.512040</td>\n",
       "      <td>-0.844224</td>\n",
       "      <td>-2.367030</td>\n",
       "      <td>-1.657956</td>\n",
       "      <td>-1.350291</td>\n",
       "      <td>...</td>\n",
       "      <td>-0.133656</td>\n",
       "      <td>-0.525179</td>\n",
       "      <td>-0.877931</td>\n",
       "      <td>-0.447827</td>\n",
       "      <td>0.171332</td>\n",
       "      <td>-0.367728</td>\n",
       "      <td>-0.297601</td>\n",
       "      <td>1.401822</td>\n",
       "      <td>-1.009093</td>\n",
       "      <td>-0.933489</td>\n",
       "    </tr>\n",
       "  </tbody>\n",
       "</table>\n",
       "<p>5 rows × 69 columns</p>\n",
       "</div>"
      ],
      "text/plain": [
       "         (beta1, T6)  (alpha2, T4)  (alpha2, T6)  (alpha2, C4)  (beta1, P4)  \\\n",
       "Im         -0.216889      0.308794     -0.234722      0.067900    -0.437859   \n",
       "Mem        -0.092854      0.438611      0.960703      0.424066     0.046368   \n",
       "Sl         -3.031139     -1.688180     -3.854093     -2.597837    -2.974110   \n",
       "Empty      -0.632753     -0.355260     -0.251564     -0.415642    -0.556649   \n",
       "EmptySl    -1.580258     -1.608761     -2.786218     -1.981914    -1.808417   \n",
       "\n",
       "         (alpha2, Fp2)  (alpha2, T3)  (alpha2, T5)  (alpha2, Pz)  (beta2, P3)  \\\n",
       "Im           -0.579578     -0.399640     -0.868180      0.196121    -0.384780   \n",
       "Mem          -0.176577     -0.485614      0.709017      1.263619    -0.469286   \n",
       "Sl           -2.733819     -1.852663     -3.144554     -3.089729    -1.595875   \n",
       "Empty        -0.714685     -0.455274     -0.018709      0.092942    -0.863712   \n",
       "EmptySl      -2.512040     -0.844224     -2.367030     -1.657956    -1.350291   \n",
       "\n",
       "             ...       (beta2, T3)  (alpha1, F8)  (beta2, Cz)  (beta2, F7)  \\\n",
       "Im           ...         -0.086913      1.003521    -0.659364    -0.295745   \n",
       "Mem          ...          0.014217      1.589176    -0.910467    -0.355198   \n",
       "Sl           ...         -0.555310     -1.131152    -1.405850    -0.773814   \n",
       "Empty        ...         -0.342149      1.170182    -1.036957    -0.130601   \n",
       "EmptySl      ...         -0.133656     -0.525179    -0.877931    -0.447827   \n",
       "\n",
       "         (alpha1, C4)  (beta2, F4)  (beta2, Fp2)  (alpha1, Pz)  (beta2, C3)  \\\n",
       "Im           0.817105    -0.502984     -0.386514      2.602600    -0.560165   \n",
       "Mem          1.765154    -0.548213     -0.144132      3.035300    -0.819860   \n",
       "Sl          -0.943096    -1.016929     -0.713967     -1.112529    -1.153985   \n",
       "Empty        0.799818    -0.601763     -0.451640      1.163915    -1.129080   \n",
       "EmptySl      0.171332    -0.367728     -0.297601      1.401822    -1.009093   \n",
       "\n",
       "         (alpha1, O2)  \n",
       "Im           5.390284  \n",
       "Mem          4.996861  \n",
       "Sl          -1.004899  \n",
       "Empty        1.149764  \n",
       "EmptySl     -0.933489  \n",
       "\n",
       "[5 rows x 69 columns]"
      ]
     },
     "execution_count": 33,
     "metadata": {},
     "output_type": "execute_result"
    }
   ],
   "source": [
    "df.head()"
   ]
  },
  {
   "cell_type": "code",
   "execution_count": 35,
   "metadata": {
    "collapsed": false
   },
   "outputs": [
    {
     "name": "stdout",
     "output_type": "stream",
     "text": [
      "Time interval: [1, 1.5] Max score: 8.021464468763668 signif number 18\n",
      "Time interval: [1.5, 2] Max score: 5.480406205265914 signif number 8\n",
      "Time interval: [2, 2.5] Max score: 9.429755623815302 signif number 6\n",
      "Time interval: [2.5, 3] Max score: 6.168748547195344 signif number 1\n",
      "Time interval: [3, 3.5] Max score: 3.4742570011563463 signif number 1\n",
      "Time interval: [3.5, 4] Max score: 3.8012562033717354 signif number 2\n",
      "Time interval: [4.5, 5] Max score: 4.667178533255041 signif number 5\n",
      "Time interval: [5, 6] Max score: 4.8847184585494485 signif number 8\n",
      "Time interval: [5.5, 6.5] Max score: 5.228558325474202 signif number 6\n"
     ]
    }
   ],
   "source": [
    "#То же самое для разницы внутри воображения и воспоминания, поставим уровень пониже\n",
    "writer = pd.ExcelWriter('ExcelReports/MentalVsSensorWT.xlsx')\n",
    "time_intervals = [[1,1.5],[1.5,2],[2,2.5],[2.5,3],[3,3.5],[3.5,4],[4.5,5],[5,6],[5.5,6.5]]\n",
    "for time_interval in time_intervals:\n",
    "    ListNames = [Im_names,Mem_names, Sl_names, Empty_names, EmptySl_names]\n",
    "    wtFeaturesList = [process_group_wt(names, times, time = time_interval) for names in ListNames]\n",
    "    wtComp = np.concatenate(wtFeaturesList[:2])\n",
    "\n",
    "    y2 = np.concatenate([np.zeros(len(Im_names)), np.ones(len(Mem_names))])\n",
    "    scoresF = f_classif(wtComp, y2)\n",
    "    numF = sum(scoresF[1]<0.1)\n",
    "    print('Time interval:',time_interval,'Max score:', np.max(scoresF[0]),'signif number', numF)\n",
    "\n",
    "    bestF = np.argsort(scoresF[0])[::-1][:numF]\n",
    "    wtMeans = [np.mean(wtFeatures[:,bestF], axis = 0) for wtFeatures in wtFeaturesList]\n",
    "    colnames = [indexCol[i] for i in bestF]\n",
    "\n",
    "   \n",
    "    data = np.vstack([wtMeans, scoresF[0][bestF]])\n",
    "    df = pd.DataFrame(data, index=['Im','Mem','Sl','Empty', 'EmptySl','F_score'], columns=colnames)\n",
    "    df.to_excel(writer,'Time({}-{})s'.format(time_interval[0],time_interval[1]),float_format = '%.2f')\n",
    "writer.save()    "
   ]
  },
  {
   "cell_type": "code",
   "execution_count": 36,
   "metadata": {
    "collapsed": false
   },
   "outputs": [
    {
     "data": {
      "text/html": [
       "<div>\n",
       "<style scoped>\n",
       "    .dataframe tbody tr th:only-of-type {\n",
       "        vertical-align: middle;\n",
       "    }\n",
       "\n",
       "    .dataframe tbody tr th {\n",
       "        vertical-align: top;\n",
       "    }\n",
       "\n",
       "    .dataframe thead th {\n",
       "        text-align: right;\n",
       "    }\n",
       "</style>\n",
       "<table border=\"1\" class=\"dataframe\">\n",
       "  <thead>\n",
       "    <tr style=\"text-align: right;\">\n",
       "      <th></th>\n",
       "      <th>(alpha2, T5)</th>\n",
       "      <th>(theta, T5)</th>\n",
       "      <th>(theta, T6)</th>\n",
       "      <th>(theta, Pz)</th>\n",
       "      <th>(theta, P4)</th>\n",
       "      <th>(theta, P3)</th>\n",
       "    </tr>\n",
       "  </thead>\n",
       "  <tbody>\n",
       "    <tr>\n",
       "      <th>Im</th>\n",
       "      <td>-0.868180</td>\n",
       "      <td>-1.169956</td>\n",
       "      <td>-1.280141</td>\n",
       "      <td>-0.937954</td>\n",
       "      <td>-0.962734</td>\n",
       "      <td>-0.717815</td>\n",
       "    </tr>\n",
       "    <tr>\n",
       "      <th>Mem</th>\n",
       "      <td>0.709017</td>\n",
       "      <td>-0.126245</td>\n",
       "      <td>-0.460844</td>\n",
       "      <td>-0.131386</td>\n",
       "      <td>-0.283560</td>\n",
       "      <td>0.057721</td>\n",
       "    </tr>\n",
       "    <tr>\n",
       "      <th>Sl</th>\n",
       "      <td>-3.144554</td>\n",
       "      <td>-1.085369</td>\n",
       "      <td>-1.132764</td>\n",
       "      <td>-0.296013</td>\n",
       "      <td>-0.584588</td>\n",
       "      <td>-0.263588</td>\n",
       "    </tr>\n",
       "    <tr>\n",
       "      <th>Empty</th>\n",
       "      <td>-0.018709</td>\n",
       "      <td>-0.952991</td>\n",
       "      <td>-1.045433</td>\n",
       "      <td>-0.678034</td>\n",
       "      <td>-0.864216</td>\n",
       "      <td>-0.785441</td>\n",
       "    </tr>\n",
       "    <tr>\n",
       "      <th>EmptySl</th>\n",
       "      <td>-2.367030</td>\n",
       "      <td>-1.206464</td>\n",
       "      <td>-1.078911</td>\n",
       "      <td>-0.541694</td>\n",
       "      <td>-0.731671</td>\n",
       "      <td>-0.722628</td>\n",
       "    </tr>\n",
       "    <tr>\n",
       "      <th>F_score</th>\n",
       "      <td>5.228558</td>\n",
       "      <td>4.487065</td>\n",
       "      <td>4.225703</td>\n",
       "      <td>4.097899</td>\n",
       "      <td>3.422457</td>\n",
       "      <td>3.392800</td>\n",
       "    </tr>\n",
       "  </tbody>\n",
       "</table>\n",
       "</div>"
      ],
      "text/plain": [
       "         (alpha2, T5)  (theta, T5)  (theta, T6)  (theta, Pz)  (theta, P4)  \\\n",
       "Im          -0.868180    -1.169956    -1.280141    -0.937954    -0.962734   \n",
       "Mem          0.709017    -0.126245    -0.460844    -0.131386    -0.283560   \n",
       "Sl          -3.144554    -1.085369    -1.132764    -0.296013    -0.584588   \n",
       "Empty       -0.018709    -0.952991    -1.045433    -0.678034    -0.864216   \n",
       "EmptySl     -2.367030    -1.206464    -1.078911    -0.541694    -0.731671   \n",
       "F_score      5.228558     4.487065     4.225703     4.097899     3.422457   \n",
       "\n",
       "         (theta, P3)  \n",
       "Im         -0.717815  \n",
       "Mem         0.057721  \n",
       "Sl         -0.263588  \n",
       "Empty      -0.785441  \n",
       "EmptySl    -0.722628  \n",
       "F_score     3.392800  "
      ]
     },
     "execution_count": 36,
     "metadata": {},
     "output_type": "execute_result"
    }
   ],
   "source": [
    "df"
   ]
  },
  {
   "cell_type": "code",
   "execution_count": null,
   "metadata": {
    "collapsed": true
   },
   "outputs": [],
   "source": []
  }
 ],
 "metadata": {
  "kernelspec": {
   "display_name": "Python 3",
   "language": "python",
   "name": "python3"
  },
  "language_info": {
   "codemirror_mode": {
    "name": "ipython",
    "version": 3
   },
   "file_extension": ".py",
   "mimetype": "text/x-python",
   "name": "python",
   "nbconvert_exporter": "python",
   "pygments_lexer": "ipython3",
   "version": "3.5.2"
  }
 },
 "nbformat": 4,
 "nbformat_minor": 1
}
