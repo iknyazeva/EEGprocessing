{
 "cells": [
  {
   "cell_type": "markdown",
   "metadata": {},
   "source": [
    "### Основные шаги обработки эксперимента с ментальными задачами\n",
    "\n",
    "В ходе данного исследования  был проведен эксперимент, направленный на стимуляцию процессов\n",
    "вспоминания и воображения у испытуемых. \n",
    "\n",
    "Эксперимент состоял из трех видов заданий: на память, воображение и\n",
    "сенсорное восприятие и трех соответствующих им контрольных заданий.\n",
    "Каждое задание предъявлялось отдельным блоком, состоящим из 40-80 проб.\n",
    "В общем виде проба состоит из вербального стимула и белого экрана или\n",
    "слайда с изображением. \n",
    "<img src=\"ExperimentDescription.jpg\" style=\"width:70%\">\n",
    "\n",
    " ***Общая схема пробы.*** Длительность проб – 6500 мс, престимульный\n",
    "интервал – 300 мс, длительность первого (вербального) стимула - 400 мс,\n",
    "длительность второго стимула (изображение) 5000 мс, длительность интервала\n",
    "между двумя стимулами в паре – 800 мс. Интервал между пробами\n",
    "рандомизирован – от 700 мс до 1000 мс.\n",
    "\n",
    "В задании на сенсорное восприятие испытуемому в качестве\n",
    "вербального стимула предъявлялось некое слово.Затем необходимо было\n",
    "рассмотреть и запомнить картинку, соответствующую этому вербальному\n",
    "стимулу, и нажать на кнопку после картинки.  В задание на память или репродуктивное воображение также\n",
    "предъявлялось слово в качестве вербального стимула, затем при\n",
    "предъявлении белого экрана испытуемому необходимо было вспомнить и\n",
    "визуализировать картинку, соответствующую предъявленному вербальному\n",
    "стимулу, и нажать на кнопку, если визуализация удалась.\n",
    "Продуктивное или творческое воображение подразумевало задачу\n",
    "придумать и визуализировать химерное изображение. Здесь вербальный\n",
    "стимул содержал уже два слова. Далее, на фоне белого экрана испытуемый\n",
    "должен был вспомнить ранее предъявленные изображения, соответствующие\n",
    "этим словам, придумать и визуализировать на белом экране некий химерный\n",
    "объект из двух изображений. А также нажать на кнопку, если удалось\n",
    "выполнить задание.\n",
    "В контрольных блоках инструкция к заданию отсутствовала. Таким\n",
    "образом, испытуемые после вербального стимула рассматривали картинку\n",
    "или смотрели на белый экран, а после него нажимали кнопку.\n"
   ]
  },
  {
   "cell_type": "markdown",
   "metadata": {},
   "source": [
    "### Этап 1. Препроцессинг  данных"
   ]
  },
  {
   "cell_type": "code",
   "execution_count": 97,
   "metadata": {
    "collapsed": true
   },
   "outputs": [],
   "source": [
    "import pandas as pd\n",
    "import numpy as np\n",
    "import matplotlib.pyplot as plt\n",
    "import pickle\n",
    "from collections import defaultdict\n",
    "%matplotlib inline"
   ]
  },
  {
   "cell_type": "code",
   "execution_count": null,
   "metadata": {
    "collapsed": false
   },
   "outputs": [],
   "source": [
    "## Данные эксперимента содержаться в файле Log: \n",
    "df_logFile = pd.read_excel('Log file.xlsx').iloc[:,:3]\n",
    "print(df_logFile.head(10))\n",
    "# Соберем табличку без контролей:\n",
    "df_filtered = df_logFile.loc[df_logFile ['Task'].isin(['Im','Mem', 'Sl'])]\n",
    "print(df_filtered.head())"
   ]
  },
  {
   "cell_type": "code",
   "execution_count": null,
   "metadata": {
    "collapsed": false
   },
   "outputs": [],
   "source": [
    "# Статистика по данным:\n",
    "print(df_filtered.groupby('Task').count())\n",
    "# Количество уникальных испытуемых\n",
    "Names = np.unique(df_filtered['Name'])\n",
    "print(' Уникальных испытуемых всего:',len(Names))"
   ]
  },
  {
   "cell_type": "code",
   "execution_count": null,
   "metadata": {
    "collapsed": false
   },
   "outputs": [],
   "source": []
  },
  {
   "cell_type": "markdown",
   "metadata": {},
   "source": [
    "### Этап 2. Нормализация по всем людям эксперимента\n",
    "Загружаем, выравниваем, собираем каждого человечка в массив: [каналы, проба, число проб]. Рисуем среднюю ERP по по всем людям. Дописываем все функции в класс EEGAnalyser"
   ]
  },
  {
   "cell_type": "code",
   "execution_count": null,
   "metadata": {
    "collapsed": false
   },
   "outputs": [],
   "source": [
    "# выкинем сначала лишние текстовые документики\n",
    "#!find DATA -maxdepth 1  -iname \"*.csv*\" -type f -delete"
   ]
  },
  {
   "cell_type": "code",
   "execution_count": 13,
   "metadata": {
    "collapsed": true
   },
   "outputs": [],
   "source": [
    "import os.path\n",
    "filename = 'DATA/EEG_MentalInfo.pickle'\n",
    "if os.path.isfile(filename):\n",
    "    with open(filename, 'rb') as f:\n",
    "        EEG_info = pickle.load(f)\n",
    "else:\n",
    "    list_Im = list(df_filtered.Number.loc[df_logFile ['Task'] == 'Im'])\n",
    "    list_Mem = list(df_filtered.Number.loc[df_logFile ['Task'] == 'Mem'])\n",
    "    list_Sl = list(df_filtered.Number.loc[df_logFile ['Task'] == 'Sl'])\n",
    "    EEG_info = {'Table': df_logFile,'list_Im':list_Im, 'list_Mem': list_Mem, 'list_Sl': list_Sl}\n",
    "    with open(filename, 'wb') as f:\n",
    "        pickle.dump(EEG_info, f)\n",
    "Im_names = EEG_info['list_Im']\n",
    "Mem_names = EEG_info['list_Mem']\n",
    "Sl_names = EEG_info['list_Sl']        "
   ]
  },
  {
   "cell_type": "code",
   "execution_count": 36,
   "metadata": {
    "collapsed": false
   },
   "outputs": [],
   "source": [
    "#Im_names "
   ]
  },
  {
   "cell_type": "code",
   "execution_count": 7,
   "metadata": {
    "collapsed": false
   },
   "outputs": [],
   "source": [
    "import os.path\n",
    "import sys\n",
    "home = str(os.path.expanduser(\"~\"))\n",
    "path_to_class = os.path.join(home,'PycharmProjects/EEGAnalyser/')\n",
    "sys.path.append(path_to_class)\n",
    "from EEGProcessing import EEGAnalyser"
   ]
  },
  {
   "cell_type": "code",
   "execution_count": 9,
   "metadata": {
    "collapsed": false
   },
   "outputs": [],
   "source": [
    "def path_define(name):\n",
    "    sig_number = 'D0000'+str(name)\n",
    "    sigName = 'DATA/CSV/'+ sig_number +'.csv'\n",
    "    timingName = 'DATA/timing/'+sig_number+'.TXT'\n",
    "    failedTrialsName = 'DATA/failed_trials/'+sig_number+'.txt'\n",
    "    return sigName, timingName, failedTrialsName"
   ]
  },
  {
   "cell_type": "code",
   "execution_count": 10,
   "metadata": {
    "collapsed": false
   },
   "outputs": [],
   "source": [
    "#Нам нужно найти самую короткую пробу по всем испытуемым, для этого можно взять все данные с таймингами и найти самый короткий\n",
    "#!head -5 DATA/timing/D0000418.TXT"
   ]
  },
  {
   "cell_type": "code",
   "execution_count": 11,
   "metadata": {
    "collapsed": false
   },
   "outputs": [
    {
     "name": "stdout",
     "output_type": "stream",
     "text": [
      "3480\n"
     ]
    }
   ],
   "source": [
    "# Ищем минимальгую длину триала EEGAnalyser\n",
    "timingPath = 'DATA/timing/'\n",
    "myExperiment = EEGAnalyser(srate = 500,min_freq = 4, max_freq=30, num_freq=10)\n",
    "min_trial_len = myExperiment.find_minimal_trial(timingPath)\n",
    "print(myExperiment.min_length)"
   ]
  },
  {
   "cell_type": "code",
   "execution_count": 43,
   "metadata": {
    "collapsed": false
   },
   "outputs": [
    {
     "data": {
      "text/plain": [
       "array([ 4.        ,  5.00367416,  6.25918877,  7.82973528,  9.79436103,\n",
       "       12.2519478 , 15.32618865, 19.17181353, 23.98237698, 30.        ])"
      ]
     },
     "execution_count": 43,
     "metadata": {},
     "output_type": "execute_result"
    }
   ],
   "source": [
    "myExperiment.freq"
   ]
  },
  {
   "cell_type": "code",
   "execution_count": 14,
   "metadata": {
    "collapsed": false
   },
   "outputs": [
    {
     "name": "stdout",
     "output_type": "stream",
     "text": [
      "DATA/CSV/D0000418.csv\n"
     ]
    }
   ],
   "source": [
    "#Загружаем данные\n",
    "name = Im_names[0]\n",
    "sigName, timingName, failedTrialsName = path_define(name)\n",
    "print(sigName)\n",
    "data = myExperiment.load_data(sigName, timingName, failedTrialsName)\n",
    "data = myExperiment.normalize_data()"
   ]
  },
  {
   "cell_type": "code",
   "execution_count": 15,
   "metadata": {
    "collapsed": false
   },
   "outputs": [
    {
     "data": {
      "image/png": "[encoded data removed]",
      "text/plain": [
       "<Figure size 432x288 with 1 Axes>"
      ]
     },
     "metadata": {},
     "output_type": "display_data"
    }
   ],
   "source": [
    "#Рисуем\n",
    "data.iloc[:,0].plot(); plt.title('EEG signal for patients with id {}'.format(name));"
   ]
  },
  {
   "cell_type": "code",
   "execution_count": 16,
   "metadata": {
    "collapsed": false
   },
   "outputs": [
    {
     "data": {
      "text/plain": [
       "Text(0.5,1,'ERP for all channels for patients with id 418')"
      ]
     },
     "execution_count": 16,
     "metadata": {},
     "output_type": "execute_result"
    },
    {
     "data": {
      "image/png": "[encoded data removed]",
      "text/plain": [
       "<Figure size 432x288 with 1 Axes>"
      ]
     },
     "metadata": {},
     "output_type": "display_data"
    }
   ],
   "source": [
    "timeExp = np.arange(min_trial_len)*0.002\n",
    "ERP = myExperiment.computeERP()\n",
    "_=plt.plot(timeExp, ERP); plt.title('ERP for all channels for patients with id {}'.format(name))"
   ]
  },
  {
   "cell_type": "code",
   "execution_count": 17,
   "metadata": {
    "collapsed": true
   },
   "outputs": [],
   "source": [
    "#Запишем  все в словарь\n",
    "res = defaultdict() \n",
    "res['timeExp(s)'] = timeExp\n",
    "res['ERP'] = ERP"
   ]
  },
  {
   "cell_type": "code",
   "execution_count": 18,
   "metadata": {
    "collapsed": false
   },
   "outputs": [
    {
     "name": "stdout",
     "output_type": "stream",
     "text": [
      "Compute channel:  1\n",
      "Compute channel:  2\n",
      "Compute channel:  3\n",
      "Compute channel:  4\n",
      "Compute channel:  5\n",
      "Compute channel:  6\n",
      "Compute channel:  7\n",
      "Compute channel:  8\n",
      "Compute channel:  9\n",
      "Compute channel:  10\n",
      "Compute channel:  11\n",
      "Compute channel:  12\n",
      "Compute channel:  13\n",
      "Compute channel:  14\n",
      "Compute channel:  15\n",
      "Compute channel:  16\n",
      "Compute channel:  17\n",
      "Compute channel:  18\n",
      "Compute channel:  19\n"
     ]
    }
   ],
   "source": [
    "#Считаем вейвлет преобразование\n",
    "freq,wt = myExperiment.wavelet_transform()"
   ]
  },
  {
   "cell_type": "code",
   "execution_count": null,
   "metadata": {
    "collapsed": false
   },
   "outputs": [],
   "source": [
    "#Так выглядит вейвлет спектр до нормализации\n",
    "#wt_ch = np.squeeze(wt[:, :, 18])\n",
    "#temppower = np.median(np.absolute(np.reshape(wt_ch, [myExperiment.num_freq, min_trial_len, myExperiment.num_trials], order=\"F\")) ** 2, axis=2)\n",
    "#plt.contourf(timeExp, myExperiment.freq, 10*np.log10(temppower), cmap=plt.cm.jet )"
   ]
  },
  {
   "cell_type": "markdown",
   "metadata": {},
   "source": [
    "### Normalization\n",
    "\n",
    "$$db = 10\\log 10\\frac{activity_t}{mean(baseline)}$$ \n",
    "\n",
    "\n",
    "$$Z = \\frac{activity_t-mean(baseline)}{std(baseline)}$$ \n"
   ]
  },
  {
   "cell_type": "code",
   "execution_count": 19,
   "metadata": {
    "collapsed": false
   },
   "outputs": [],
   "source": [
    "#Нормируем относительно престимульного интервала. Получаем кандидата на дальнейшее использование\n",
    "normwt = myExperiment.baseline_normalization()"
   ]
  },
  {
   "cell_type": "code",
   "execution_count": 20,
   "metadata": {
    "collapsed": false
   },
   "outputs": [
    {
     "data": {
      "text/plain": [
       "<matplotlib.contour.QuadContourSet at 0x1049b9da0>"
      ]
     },
     "execution_count": 20,
     "metadata": {},
     "output_type": "execute_result"
    },
    {
     "data": {
      "image/png": "[encoded data removed]",
      "text/plain": [
       "<Figure size 432x288 with 1 Axes>"
      ]
     },
     "metadata": {},
     "output_type": "display_data"
    }
   ],
   "source": [
    "#а вот так он же но нрмированный\n",
    "plt.contourf(timeExp, myExperiment.freq, normwt[:,:,18], cmap=plt.cm.jet )"
   ]
  },
  {
   "cell_type": "code",
   "execution_count": 21,
   "metadata": {
    "collapsed": false
   },
   "outputs": [
    {
     "data": {
      "text/plain": [
       "dict_keys(['ERP', 'normWT', 'patientsId', 'timeExp(s)', 'freq'])"
      ]
     },
     "execution_count": 21,
     "metadata": {},
     "output_type": "execute_result"
    }
   ],
   "source": [
    "res['patientsId'] = name\n",
    "res['normWT'] = normwt\n",
    "res['freq'] = freq\n",
    "res.keys()"
   ]
  },
  {
   "cell_type": "markdown",
   "metadata": {},
   "source": [
    "### Блок с синхронизацией"
   ]
  },
  {
   "cell_type": "code",
   "execution_count": 22,
   "metadata": {
    "collapsed": false
   },
   "outputs": [],
   "source": [
    "chan_pairs = list()\n",
    "chan_pairs_id = list()\n",
    "chan_names = list(myExperiment.channelsName)\n",
    "for i in range(0,19):\n",
    "    for j in range (i+1,19):\n",
    "        chan_pairs.append([[chan_names[i],chan_names[j]]])\n",
    "        chan_pairs_id.append([i,j])   "
   ]
  },
  {
   "cell_type": "code",
   "execution_count": 23,
   "metadata": {
    "collapsed": false
   },
   "outputs": [],
   "source": [
    "PSdata = defaultdict()\n",
    "PSdata['chan_pairs'] = chan_pairs\n",
    "PSdata['chan_pairs_id'] = chan_pairs_id"
   ]
  },
  {
   "cell_type": "code",
   "execution_count": 39,
   "metadata": {
    "collapsed": false
   },
   "outputs": [],
   "source": [
    "#chan_pairs_id"
   ]
  },
  {
   "cell_type": "code",
   "execution_count": 28,
   "metadata": {
    "collapsed": false
   },
   "outputs": [
    {
     "name": "stdout",
     "output_type": "stream",
     "text": [
      "Compute coherence between : 0 and 1\n",
      "Compute coherence between : 1 and 3\n",
      "Compute coherence between : 2 and 6\n",
      "Compute coherence between : 3 and 10\n",
      "Compute coherence between : 4 and 15\n",
      "Compute coherence between : 6 and 9\n",
      "Compute coherence between : 7 and 17\n",
      "Compute coherence between : 9 and 17\n",
      "Compute coherence between : 12 and 15\n"
     ]
    }
   ],
   "source": [
    "num_points = 300\n",
    "PSAllCh = np.zeros(shape = (myExperiment.num_freq, num_points, len(chan_pairs_id)), dtype=float)\n",
    "for j in range(0, len(chan_pairs_id)): #len(chan_pairs_id)\n",
    "    if (j%19 == 0):\n",
    "        print('Compute coherence between : '+str(chan_pairs_id[j][0])+ ' and '+ str(chan_pairs_id[j][1])) \n",
    "    ispc = myExperiment.phase_coherence(chan_pairs_id[j][0],chan_pairs_id[j][1], num_points = num_points)\n",
    "    PSAllCh[:,:,j] = ispc['ispc']"
   ]
  },
  {
   "cell_type": "code",
   "execution_count": 29,
   "metadata": {
    "collapsed": true
   },
   "outputs": [],
   "source": [
    "PSdata['data'] = PSAllCh\n",
    "PSdata['times'] = ispc['times']\n",
    "res['PhaseSynchr'] = PSdata"
   ]
  },
  {
   "cell_type": "code",
   "execution_count": 31,
   "metadata": {
    "collapsed": false
   },
   "outputs": [
    {
     "data": {
      "text/plain": [
       "dict_keys(['ERP', 'normWT', 'patientsId', 'timeExp(s)', 'PhaseSynchr', 'freq'])"
      ]
     },
     "execution_count": 31,
     "metadata": {},
     "output_type": "execute_result"
    }
   ],
   "source": [
    "#синхронизация \n",
    "res.keys()"
   ]
  },
  {
   "cell_type": "code",
   "execution_count": 47,
   "metadata": {
    "collapsed": false
   },
   "outputs": [
    {
     "data": {
      "text/plain": [
       "<matplotlib.contour.QuadContourSet at 0x108863828>"
      ]
     },
     "execution_count": 47,
     "metadata": {},
     "output_type": "execute_result"
    },
    {
     "data": {
      "image/png": "[encoded data removed]",
      "text/plain": [
       "<Figure size 432x288 with 1 Axes>"
      ]
     },
     "metadata": {},
     "output_type": "display_data"
    }
   ],
   "source": [
    "PSdata = res['PhaseSynchr']\n",
    "plt.contourf(PSdata['times'] *0.002, myExperiment.freq, PSdata['data'][:,:,29],20,cmap=plt.cm.jet)"
   ]
  },
  {
   "cell_type": "code",
   "execution_count": 50,
   "metadata": {
    "collapsed": false
   },
   "outputs": [],
   "source": [
    "resname = 'ResultsData/'+ 'ResultD000'+str(name)+'.pickle'\n",
    "with open(resname, 'wb') as f:\n",
    "        pickle.dump(res, f)"
   ]
  },
  {
   "cell_type": "code",
   "execution_count": 93,
   "metadata": {
    "collapsed": true
   },
   "outputs": [],
   "source": [
    "# function for processing one people and write to file \n",
    "\n",
    "min_trial_len = 3480\n",
    "\n",
    "def process_person(name, num_freq = 10, num_points =300):\n",
    "    res = defaultdict() \n",
    "    resname = 'ResultsData/'+ 'ResultD000'+str(name)+'.pickle'\n",
    "    if os.path.isfile(resname):\n",
    "        print('Id already computed.....')\n",
    "    else:    \n",
    "        \n",
    "        sigName, timingName, failedTrialsName = path_define(name)\n",
    "        myExperiment = EEGAnalyser(srate = 500,min_freq = 4, max_freq=30, num_freq=num_freq)\n",
    "        myExperiment.min_length = min_trial_len\n",
    "        data = myExperiment.load_data(sigName, timingName, failedTrialsName)\n",
    "        data = myExperiment.normalize_data()\n",
    "        timeExp = np.arange(min_trial_len)*0.002\n",
    "        ERP = myExperiment.computeERP()\n",
    "        res['timeExp(s)'] = timeExp\n",
    "        res['ERP'] = ERP\n",
    "        print('Compute wavelet transform for id ...{}'.format(name))\n",
    "        freq,wt = myExperiment.wavelet_transform()\n",
    "        normwt = myExperiment.baseline_normalization()\n",
    "        res['patientsId'] = name\n",
    "        res['normWT'] = normwt\n",
    "        res['freq'] = freq\n",
    "        PSAllCh = np.zeros(shape = (myExperiment.num_freq, num_points, len(chan_pairs_id)), dtype=float)\n",
    "        print('Compute phase synchronization for id {}...'.format(name))\n",
    "        for j in range(0, len(chan_pairs_id)): \n",
    "            if (j%50 == 0):\n",
    "                print('Compute coherence between : '+str(chan_pairs_id[j][0])+ ' and '+ str(chan_pairs_id[j][1])) \n",
    "            ispc = myExperiment.phase_coherence(chan_pairs_id[j][0],chan_pairs_id[j][1], num_points = num_points)\n",
    "            PSAllCh[:,:,j] = ispc['ispc']\n",
    "        PSdata['data'] = PSAllCh\n",
    "        PSdata['times'] = ispc['times']\n",
    "        res['PhaseSynchr'] = PSdata\n",
    "   \n",
    "        with open(resname, 'wb') as f:\n",
    "            pickle.dump(res, f)   \n",
    "    return res    "
   ]
  },
  {
   "cell_type": "markdown",
   "metadata": {},
   "source": [
    "### All persons processing in group"
   ]
  },
  {
   "cell_type": "code",
   "execution_count": 94,
   "metadata": {
    "collapsed": false
   },
   "outputs": [
    {
     "name": "stdout",
     "output_type": "stream",
     "text": [
      "Id already computed.....\n"
     ]
    }
   ],
   "source": [
    "name = 507\n",
    "res = process_person(name, num_freq = 10, num_points =300)"
   ]
  },
  {
   "cell_type": "code",
   "execution_count": 91,
   "metadata": {
    "collapsed": false
   },
   "outputs": [
    {
     "data": {
      "text/plain": [
       "False"
      ]
     },
     "execution_count": 91,
     "metadata": {},
     "output_type": "execute_result"
    }
   ],
   "source": [
    "name = 515\n",
    "resname = 'ResultsData/'+ 'ResultD000'+str(name)+'.pickle'\n",
    "os.path.isfile(resname)"
   ]
  },
  {
   "cell_type": "code",
   "execution_count": 89,
   "metadata": {
    "collapsed": false
   },
   "outputs": [
    {
     "data": {
      "text/plain": [
       "[515, 521, 527, 535, 541, 555, 561, 567, 573, 579, 585, 591, 599, 605, 611]"
      ]
     },
     "execution_count": 89,
     "metadata": {},
     "output_type": "execute_result"
    }
   ],
   "source": [
    "Mem_names[13:]"
   ]
  },
  {
   "cell_type": "code",
   "execution_count": 96,
   "metadata": {
    "collapsed": false
   },
   "outputs": [
    {
     "name": "stdout",
     "output_type": "stream",
     "text": [
      "Compute wavelet transform for id ...420\n",
      "Compute channel:  1\n",
      "Compute channel:  2\n",
      "Compute channel:  3\n",
      "Compute channel:  4\n",
      "Compute channel:  5\n",
      "Compute channel:  6\n",
      "Compute channel:  7\n",
      "Compute channel:  8\n",
      "Compute channel:  9\n",
      "Compute channel:  10\n",
      "Compute channel:  11\n",
      "Compute channel:  12\n",
      "Compute channel:  13\n",
      "Compute channel:  14\n",
      "Compute channel:  15\n",
      "Compute channel:  16\n",
      "Compute channel:  17\n",
      "Compute channel:  18\n",
      "Compute channel:  19\n",
      "Compute phase synchronization for id 420...\n",
      "Compute coherence between : 0 and 1\n",
      "Compute coherence between : 2 and 18\n",
      "Compute coherence between : 6 and 14\n",
      "Compute coherence between : 12 and 13\n",
      "Compute wavelet transform for id ...434\n",
      "Compute channel:  1\n",
      "Compute channel:  2\n",
      "Compute channel:  3\n",
      "Compute channel:  4\n",
      "Compute channel:  5\n",
      "Compute channel:  6\n",
      "Compute channel:  7\n",
      "Compute channel:  8\n",
      "Compute channel:  9\n",
      "Compute channel:  10\n",
      "Compute channel:  11\n",
      "Compute channel:  12\n",
      "Compute channel:  13\n",
      "Compute channel:  14\n",
      "Compute channel:  15\n",
      "Compute channel:  16\n",
      "Compute channel:  17\n",
      "Compute channel:  18\n",
      "Compute channel:  19\n",
      "Compute phase synchronization for id 434...\n",
      "Compute coherence between : 0 and 1\n",
      "Compute coherence between : 2 and 18\n",
      "Compute coherence between : 6 and 14\n",
      "Compute coherence between : 12 and 13\n",
      "Compute wavelet transform for id ...439\n",
      "Compute channel:  1\n",
      "Compute channel:  2\n",
      "Compute channel:  3\n",
      "Compute channel:  4\n",
      "Compute channel:  5\n",
      "Compute channel:  6\n",
      "Compute channel:  7\n",
      "Compute channel:  8\n",
      "Compute channel:  9\n",
      "Compute channel:  10\n",
      "Compute channel:  11\n",
      "Compute channel:  12\n",
      "Compute channel:  13\n",
      "Compute channel:  14\n",
      "Compute channel:  15\n",
      "Compute channel:  16\n",
      "Compute channel:  17\n",
      "Compute channel:  18\n",
      "Compute channel:  19\n",
      "Compute phase synchronization for id 439...\n",
      "Compute coherence between : 0 and 1\n",
      "Compute coherence between : 2 and 18\n",
      "Compute coherence between : 6 and 14\n",
      "Compute coherence between : 12 and 13\n",
      "Compute wavelet transform for id ...451\n",
      "Compute channel:  1\n",
      "Compute channel:  2\n",
      "Compute channel:  3\n",
      "Compute channel:  4\n",
      "Compute channel:  5\n",
      "Compute channel:  6\n",
      "Compute channel:  7\n",
      "Compute channel:  8\n",
      "Compute channel:  9\n",
      "Compute channel:  10\n",
      "Compute channel:  11\n",
      "Compute channel:  12\n",
      "Compute channel:  13\n",
      "Compute channel:  14\n",
      "Compute channel:  15\n",
      "Compute channel:  16\n",
      "Compute channel:  17\n",
      "Compute channel:  18\n",
      "Compute channel:  19\n",
      "Compute phase synchronization for id 451...\n",
      "Compute coherence between : 0 and 1\n",
      "Compute coherence between : 2 and 18\n",
      "Compute coherence between : 6 and 14\n",
      "Compute coherence between : 12 and 13\n",
      "Compute wavelet transform for id ...457\n",
      "Compute channel:  1\n",
      "Compute channel:  2\n",
      "Compute channel:  3\n",
      "Compute channel:  4\n",
      "Compute channel:  5\n",
      "Compute channel:  6\n",
      "Compute channel:  7\n",
      "Compute channel:  8\n",
      "Compute channel:  9\n",
      "Compute channel:  10\n",
      "Compute channel:  11\n",
      "Compute channel:  12\n",
      "Compute channel:  13\n",
      "Compute channel:  14\n",
      "Compute channel:  15\n",
      "Compute channel:  16\n",
      "Compute channel:  17\n",
      "Compute channel:  18\n",
      "Compute channel:  19\n",
      "Compute phase synchronization for id 457...\n",
      "Compute coherence between : 0 and 1\n",
      "Compute coherence between : 2 and 18\n",
      "Compute coherence between : 6 and 14\n",
      "Compute coherence between : 12 and 13\n",
      "Compute wavelet transform for id ...465\n",
      "Compute channel:  1\n",
      "Compute channel:  2\n",
      "Compute channel:  3\n",
      "Compute channel:  4\n",
      "Compute channel:  5\n",
      "Compute channel:  6\n",
      "Compute channel:  7\n",
      "Compute channel:  8\n",
      "Compute channel:  9\n",
      "Compute channel:  10\n",
      "Compute channel:  11\n",
      "Compute channel:  12\n",
      "Compute channel:  13\n",
      "Compute channel:  14\n",
      "Compute channel:  15\n",
      "Compute channel:  16\n",
      "Compute channel:  17\n",
      "Compute channel:  18\n",
      "Compute channel:  19\n",
      "Compute phase synchronization for id 465...\n",
      "Compute coherence between : 0 and 1\n",
      "Compute coherence between : 2 and 18\n",
      "Compute coherence between : 6 and 14\n",
      "Compute coherence between : 12 and 13\n",
      "Compute wavelet transform for id ...471\n",
      "Compute channel:  1\n",
      "Compute channel:  2\n",
      "Compute channel:  3\n",
      "Compute channel:  4\n",
      "Compute channel:  5\n",
      "Compute channel:  6\n",
      "Compute channel:  7\n",
      "Compute channel:  8\n",
      "Compute channel:  9\n",
      "Compute channel:  10\n",
      "Compute channel:  11\n",
      "Compute channel:  12\n",
      "Compute channel:  13\n",
      "Compute channel:  14\n",
      "Compute channel:  15\n",
      "Compute channel:  16\n",
      "Compute channel:  17\n",
      "Compute channel:  18\n",
      "Compute channel:  19\n",
      "Compute phase synchronization for id 471...\n",
      "Compute coherence between : 0 and 1\n",
      "Compute coherence between : 2 and 18\n",
      "Compute coherence between : 6 and 14\n",
      "Compute coherence between : 12 and 13\n",
      "Compute wavelet transform for id ...477\n",
      "Compute channel:  1\n",
      "Compute channel:  2\n",
      "Compute channel:  3\n",
      "Compute channel:  4\n",
      "Compute channel:  5\n",
      "Compute channel:  6\n",
      "Compute channel:  7\n",
      "Compute channel:  8\n",
      "Compute channel:  9\n",
      "Compute channel:  10\n",
      "Compute channel:  11\n",
      "Compute channel:  12\n",
      "Compute channel:  13\n",
      "Compute channel:  14\n",
      "Compute channel:  15\n",
      "Compute channel:  16\n",
      "Compute channel:  17\n",
      "Compute channel:  18\n",
      "Compute channel:  19\n",
      "Compute phase synchronization for id 477...\n",
      "Compute coherence between : 0 and 1\n",
      "Compute coherence between : 2 and 18\n",
      "Compute coherence between : 6 and 14\n",
      "Compute coherence between : 12 and 13\n",
      "Compute wavelet transform for id ...483\n",
      "Compute channel:  1\n",
      "Compute channel:  2\n",
      "Compute channel:  3\n",
      "Compute channel:  4\n",
      "Compute channel:  5\n",
      "Compute channel:  6\n",
      "Compute channel:  7\n",
      "Compute channel:  8\n",
      "Compute channel:  9\n",
      "Compute channel:  10\n",
      "Compute channel:  11\n",
      "Compute channel:  12\n",
      "Compute channel:  13\n",
      "Compute channel:  14\n",
      "Compute channel:  15\n",
      "Compute channel:  16\n",
      "Compute channel:  17\n",
      "Compute channel:  18\n",
      "Compute channel:  19\n",
      "Compute phase synchronization for id 483...\n",
      "Compute coherence between : 0 and 1\n",
      "Compute coherence between : 2 and 18\n",
      "Compute coherence between : 6 and 14\n",
      "Compute coherence between : 12 and 13\n",
      "Compute wavelet transform for id ...489\n",
      "Compute channel:  1\n",
      "Compute channel:  2\n",
      "Compute channel:  3\n",
      "Compute channel:  4\n",
      "Compute channel:  5\n",
      "Compute channel:  6\n",
      "Compute channel:  7\n",
      "Compute channel:  8\n",
      "Compute channel:  9\n",
      "Compute channel:  10\n",
      "Compute channel:  11\n",
      "Compute channel:  12\n",
      "Compute channel:  13\n",
      "Compute channel:  14\n",
      "Compute channel:  15\n",
      "Compute channel:  16\n",
      "Compute channel:  17\n",
      "Compute channel:  18\n",
      "Compute channel:  19\n",
      "Compute phase synchronization for id 489...\n",
      "Compute coherence between : 0 and 1\n",
      "Compute coherence between : 2 and 18\n",
      "Compute coherence between : 6 and 14\n",
      "Compute coherence between : 12 and 13\n",
      "Compute wavelet transform for id ...502\n",
      "Compute channel:  1\n",
      "Compute channel:  2\n",
      "Compute channel:  3\n",
      "Compute channel:  4\n",
      "Compute channel:  5\n",
      "Compute channel:  6\n",
      "Compute channel:  7\n",
      "Compute channel:  8\n",
      "Compute channel:  9\n",
      "Compute channel:  10\n",
      "Compute channel:  11\n",
      "Compute channel:  12\n",
      "Compute channel:  13\n",
      "Compute channel:  14\n",
      "Compute channel:  15\n",
      "Compute channel:  16\n",
      "Compute channel:  17\n",
      "Compute channel:  18\n",
      "Compute channel:  19\n",
      "Compute phase synchronization for id 502...\n",
      "Compute coherence between : 0 and 1\n",
      "Compute coherence between : 2 and 18\n",
      "Compute coherence between : 6 and 14\n",
      "Compute coherence between : 12 and 13\n",
      "Compute wavelet transform for id ...508\n",
      "Compute channel:  1\n",
      "Compute channel:  2\n",
      "Compute channel:  3\n",
      "Compute channel:  4\n",
      "Compute channel:  5\n",
      "Compute channel:  6\n",
      "Compute channel:  7\n",
      "Compute channel:  8\n",
      "Compute channel:  9\n",
      "Compute channel:  10\n",
      "Compute channel:  11\n",
      "Compute channel:  12\n",
      "Compute channel:  13\n",
      "Compute channel:  14\n",
      "Compute channel:  15\n",
      "Compute channel:  16\n",
      "Compute channel:  17\n",
      "Compute channel:  18\n",
      "Compute channel:  19\n",
      "Compute phase synchronization for id 508...\n",
      "Compute coherence between : 0 and 1\n",
      "Compute coherence between : 2 and 18\n",
      "Compute coherence between : 6 and 14\n",
      "Compute coherence between : 12 and 13\n",
      "Compute wavelet transform for id ...516\n",
      "Compute channel:  1\n",
      "Compute channel:  2\n",
      "Compute channel:  3\n",
      "Compute channel:  4\n",
      "Compute channel:  5\n",
      "Compute channel:  6\n",
      "Compute channel:  7\n",
      "Compute channel:  8\n",
      "Compute channel:  9\n",
      "Compute channel:  10\n",
      "Compute channel:  11\n",
      "Compute channel:  12\n",
      "Compute channel:  13\n",
      "Compute channel:  14\n",
      "Compute channel:  15\n",
      "Compute channel:  16\n",
      "Compute channel:  17\n",
      "Compute channel:  18\n",
      "Compute channel:  19\n",
      "Compute phase synchronization for id 516...\n",
      "Compute coherence between : 0 and 1\n",
      "Compute coherence between : 2 and 18\n",
      "Compute coherence between : 6 and 14\n",
      "Compute coherence between : 12 and 13\n",
      "Compute wavelet transform for id ...522\n",
      "Compute channel:  1\n",
      "Compute channel:  2\n",
      "Compute channel:  3\n",
      "Compute channel:  4\n",
      "Compute channel:  5\n",
      "Compute channel:  6\n",
      "Compute channel:  7\n",
      "Compute channel:  8\n",
      "Compute channel:  9\n",
      "Compute channel:  10\n",
      "Compute channel:  11\n",
      "Compute channel:  12\n",
      "Compute channel:  13\n",
      "Compute channel:  14\n",
      "Compute channel:  15\n",
      "Compute channel:  16\n",
      "Compute channel:  17\n",
      "Compute channel:  18\n",
      "Compute channel:  19\n",
      "Compute phase synchronization for id 522...\n",
      "Compute coherence between : 0 and 1\n",
      "Compute coherence between : 2 and 18\n",
      "Compute coherence between : 6 and 14\n",
      "Compute coherence between : 12 and 13\n",
      "Compute wavelet transform for id ...528\n",
      "Compute channel:  1\n",
      "Compute channel:  2\n",
      "Compute channel:  3\n",
      "Compute channel:  4\n",
      "Compute channel:  5\n",
      "Compute channel:  6\n",
      "Compute channel:  7\n",
      "Compute channel:  8\n",
      "Compute channel:  9\n",
      "Compute channel:  10\n",
      "Compute channel:  11\n",
      "Compute channel:  12\n",
      "Compute channel:  13\n",
      "Compute channel:  14\n",
      "Compute channel:  15\n",
      "Compute channel:  16\n",
      "Compute channel:  17\n",
      "Compute channel:  18\n",
      "Compute channel:  19\n",
      "Compute phase synchronization for id 528...\n",
      "Compute coherence between : 0 and 1\n",
      "Compute coherence between : 2 and 18\n",
      "Compute coherence between : 6 and 14\n",
      "Compute coherence between : 12 and 13\n",
      "Compute wavelet transform for id ...536\n",
      "Compute channel:  1\n",
      "Compute channel:  2\n",
      "Compute channel:  3\n",
      "Compute channel:  4\n",
      "Compute channel:  5\n",
      "Compute channel:  6\n",
      "Compute channel:  7\n",
      "Compute channel:  8\n",
      "Compute channel:  9\n",
      "Compute channel:  10\n",
      "Compute channel:  11\n",
      "Compute channel:  12\n",
      "Compute channel:  13\n",
      "Compute channel:  14\n",
      "Compute channel:  15\n",
      "Compute channel:  16\n",
      "Compute channel:  17\n",
      "Compute channel:  18\n",
      "Compute channel:  19\n",
      "Compute phase synchronization for id 536...\n",
      "Compute coherence between : 0 and 1\n",
      "Compute coherence between : 2 and 18\n",
      "Compute coherence between : 6 and 14\n",
      "Compute coherence between : 12 and 13\n",
      "Compute wavelet transform for id ...542\n",
      "Compute channel:  1\n",
      "Compute channel:  2\n",
      "Compute channel:  3\n",
      "Compute channel:  4\n",
      "Compute channel:  5\n",
      "Compute channel:  6\n",
      "Compute channel:  7\n",
      "Compute channel:  8\n",
      "Compute channel:  9\n",
      "Compute channel:  10\n",
      "Compute channel:  11\n",
      "Compute channel:  12\n",
      "Compute channel:  13\n",
      "Compute channel:  14\n",
      "Compute channel:  15\n",
      "Compute channel:  16\n",
      "Compute channel:  17\n",
      "Compute channel:  18\n",
      "Compute channel:  19\n",
      "Compute phase synchronization for id 542...\n",
      "Compute coherence between : 0 and 1\n",
      "Compute coherence between : 2 and 18\n",
      "Compute coherence between : 6 and 14\n",
      "Compute coherence between : 12 and 13\n",
      "Compute wavelet transform for id ...556\n",
      "Compute channel:  1\n",
      "Compute channel:  2\n",
      "Compute channel:  3\n",
      "Compute channel:  4\n",
      "Compute channel:  5\n",
      "Compute channel:  6\n",
      "Compute channel:  7\n",
      "Compute channel:  8\n",
      "Compute channel:  9\n",
      "Compute channel:  10\n",
      "Compute channel:  11\n",
      "Compute channel:  12\n",
      "Compute channel:  13\n",
      "Compute channel:  14\n",
      "Compute channel:  15\n",
      "Compute channel:  16\n",
      "Compute channel:  17\n",
      "Compute channel:  18\n",
      "Compute channel:  19\n",
      "Compute phase synchronization for id 556...\n",
      "Compute coherence between : 0 and 1\n",
      "Compute coherence between : 2 and 18\n",
      "Compute coherence between : 6 and 14\n",
      "Compute coherence between : 12 and 13\n",
      "Compute wavelet transform for id ...562\n",
      "Compute channel:  1\n",
      "Compute channel:  2\n",
      "Compute channel:  3\n",
      "Compute channel:  4\n",
      "Compute channel:  5\n",
      "Compute channel:  6\n",
      "Compute channel:  7\n",
      "Compute channel:  8\n",
      "Compute channel:  9\n",
      "Compute channel:  10\n",
      "Compute channel:  11\n",
      "Compute channel:  12\n",
      "Compute channel:  13\n",
      "Compute channel:  14\n",
      "Compute channel:  15\n",
      "Compute channel:  16\n",
      "Compute channel:  17\n",
      "Compute channel:  18\n",
      "Compute channel:  19\n",
      "Compute phase synchronization for id 562...\n",
      "Compute coherence between : 0 and 1\n",
      "Compute coherence between : 2 and 18\n",
      "Compute coherence between : 6 and 14\n",
      "Compute coherence between : 12 and 13\n",
      "Compute wavelet transform for id ...568\n",
      "Compute channel:  1\n",
      "Compute channel:  2\n",
      "Compute channel:  3\n",
      "Compute channel:  4\n",
      "Compute channel:  5\n",
      "Compute channel:  6\n",
      "Compute channel:  7\n",
      "Compute channel:  8\n",
      "Compute channel:  9\n",
      "Compute channel:  10\n",
      "Compute channel:  11\n",
      "Compute channel:  12\n",
      "Compute channel:  13\n",
      "Compute channel:  14\n",
      "Compute channel:  15\n",
      "Compute channel:  16\n",
      "Compute channel:  17\n",
      "Compute channel:  18\n",
      "Compute channel:  19\n",
      "Compute phase synchronization for id 568...\n",
      "Compute coherence between : 0 and 1\n",
      "Compute coherence between : 2 and 18\n",
      "Compute coherence between : 6 and 14\n",
      "Compute coherence between : 12 and 13\n",
      "Compute wavelet transform for id ...574\n",
      "Compute channel:  1\n",
      "Compute channel:  2\n",
      "Compute channel:  3\n",
      "Compute channel:  4\n",
      "Compute channel:  5\n",
      "Compute channel:  6\n",
      "Compute channel:  7\n",
      "Compute channel:  8\n",
      "Compute channel:  9\n",
      "Compute channel:  10\n",
      "Compute channel:  11\n",
      "Compute channel:  12\n",
      "Compute channel:  13\n",
      "Compute channel:  14\n",
      "Compute channel:  15\n",
      "Compute channel:  16\n",
      "Compute channel:  17\n",
      "Compute channel:  18\n",
      "Compute channel:  19\n",
      "Compute phase synchronization for id 574...\n",
      "Compute coherence between : 0 and 1\n",
      "Compute coherence between : 2 and 18\n",
      "Compute coherence between : 6 and 14\n",
      "Compute coherence between : 12 and 13\n",
      "Compute wavelet transform for id ...580\n",
      "Compute channel:  1\n",
      "Compute channel:  2\n",
      "Compute channel:  3\n",
      "Compute channel:  4\n",
      "Compute channel:  5\n",
      "Compute channel:  6\n",
      "Compute channel:  7\n",
      "Compute channel:  8\n",
      "Compute channel:  9\n",
      "Compute channel:  10\n",
      "Compute channel:  11\n",
      "Compute channel:  12\n",
      "Compute channel:  13\n",
      "Compute channel:  14\n",
      "Compute channel:  15\n",
      "Compute channel:  16\n",
      "Compute channel:  17\n",
      "Compute channel:  18\n",
      "Compute channel:  19\n",
      "Compute phase synchronization for id 580...\n",
      "Compute coherence between : 0 and 1\n",
      "Compute coherence between : 2 and 18\n",
      "Compute coherence between : 6 and 14\n",
      "Compute coherence between : 12 and 13\n",
      "Compute wavelet transform for id ...586\n",
      "Compute channel:  1\n",
      "Compute channel:  2\n",
      "Compute channel:  3\n",
      "Compute channel:  4\n",
      "Compute channel:  5\n",
      "Compute channel:  6\n",
      "Compute channel:  7\n",
      "Compute channel:  8\n",
      "Compute channel:  9\n",
      "Compute channel:  10\n",
      "Compute channel:  11\n",
      "Compute channel:  12\n",
      "Compute channel:  13\n",
      "Compute channel:  14\n",
      "Compute channel:  15\n",
      "Compute channel:  16\n",
      "Compute channel:  17\n",
      "Compute channel:  18\n",
      "Compute channel:  19\n",
      "Compute phase synchronization for id 586...\n",
      "Compute coherence between : 0 and 1\n",
      "Compute coherence between : 2 and 18\n",
      "Compute coherence between : 6 and 14\n",
      "Compute coherence between : 12 and 13\n",
      "Compute wavelet transform for id ...592\n",
      "Compute channel:  1\n",
      "Compute channel:  2\n",
      "Compute channel:  3\n",
      "Compute channel:  4\n",
      "Compute channel:  5\n",
      "Compute channel:  6\n",
      "Compute channel:  7\n",
      "Compute channel:  8\n",
      "Compute channel:  9\n",
      "Compute channel:  10\n",
      "Compute channel:  11\n",
      "Compute channel:  12\n",
      "Compute channel:  13\n",
      "Compute channel:  14\n",
      "Compute channel:  15\n",
      "Compute channel:  16\n",
      "Compute channel:  17\n",
      "Compute channel:  18\n",
      "Compute channel:  19\n",
      "Compute phase synchronization for id 592...\n",
      "Compute coherence between : 0 and 1\n",
      "Compute coherence between : 2 and 18\n",
      "Compute coherence between : 6 and 14\n",
      "Compute coherence between : 12 and 13\n",
      "Compute wavelet transform for id ...600\n",
      "Compute channel:  1\n",
      "Compute channel:  2\n",
      "Compute channel:  3\n",
      "Compute channel:  4\n",
      "Compute channel:  5\n",
      "Compute channel:  6\n",
      "Compute channel:  7\n",
      "Compute channel:  8\n",
      "Compute channel:  9\n",
      "Compute channel:  10\n",
      "Compute channel:  11\n",
      "Compute channel:  12\n",
      "Compute channel:  13\n",
      "Compute channel:  14\n",
      "Compute channel:  15\n",
      "Compute channel:  16\n",
      "Compute channel:  17\n",
      "Compute channel:  18\n",
      "Compute channel:  19\n",
      "Compute phase synchronization for id 600...\n",
      "Compute coherence between : 0 and 1\n",
      "Compute coherence between : 2 and 18\n",
      "Compute coherence between : 6 and 14\n",
      "Compute coherence between : 12 and 13\n",
      "Compute wavelet transform for id ...606\n",
      "Compute channel:  1\n",
      "Compute channel:  2\n",
      "Compute channel:  3\n",
      "Compute channel:  4\n",
      "Compute channel:  5\n",
      "Compute channel:  6\n",
      "Compute channel:  7\n",
      "Compute channel:  8\n",
      "Compute channel:  9\n",
      "Compute channel:  10\n",
      "Compute channel:  11\n",
      "Compute channel:  12\n",
      "Compute channel:  13\n",
      "Compute channel:  14\n",
      "Compute channel:  15\n",
      "Compute channel:  16\n",
      "Compute channel:  17\n",
      "Compute channel:  18\n",
      "Compute channel:  19\n",
      "Compute phase synchronization for id 606...\n",
      "Compute coherence between : 0 and 1\n",
      "Compute coherence between : 2 and 18\n",
      "Compute coherence between : 6 and 14\n",
      "Compute coherence between : 12 and 13\n",
      "Compute wavelet transform for id ...612\n",
      "Compute channel:  1\n",
      "Compute channel:  2\n",
      "Compute channel:  3\n",
      "Compute channel:  4\n",
      "Compute channel:  5\n",
      "Compute channel:  6\n",
      "Compute channel:  7\n",
      "Compute channel:  8\n",
      "Compute channel:  9\n",
      "Compute channel:  10\n",
      "Compute channel:  11\n",
      "Compute channel:  12\n",
      "Compute channel:  13\n",
      "Compute channel:  14\n",
      "Compute channel:  15\n",
      "Compute channel:  16\n",
      "Compute channel:  17\n",
      "Compute channel:  18\n",
      "Compute channel:  19\n",
      "Compute phase synchronization for id 612...\n",
      "Compute coherence between : 0 and 1\n",
      "Compute coherence between : 2 and 18\n",
      "Compute coherence between : 6 and 14\n",
      "Compute coherence between : 12 and 13\n"
     ]
    }
   ],
   "source": [
    "for name in Sl_names:\n",
    "    res = process_person(name, num_freq = 10, num_points =300)"
   ]
  },
  {
   "cell_type": "code",
   "execution_count": 56,
   "metadata": {
    "collapsed": false
   },
   "outputs": [
    {
     "data": {
      "text/plain": [
       "<matplotlib.contour.QuadContourSet at 0x10785ab70>"
      ]
     },
     "execution_count": 56,
     "metadata": {},
     "output_type": "execute_result"
    },
    {
     "data": {
      "image/png": "[encoded data removed]",
      "text/plain": [
       "<Figure size 432x288 with 1 Axes>"
      ]
     },
     "metadata": {},
     "output_type": "display_data"
    }
   ],
   "source": [
    "PSdata = res['PhaseSynchr']\n",
    "plt.contourf(PSdata['times'] *0.002, myExperiment.freq, PSdata['data'][:,:,29],20,cmap=plt.cm.jet)"
   ]
  },
  {
   "cell_type": "code",
   "execution_count": 57,
   "metadata": {
    "collapsed": false
   },
   "outputs": [
    {
     "data": {
      "text/plain": [
       "dict_keys(['ERP', 'normWT', 'patientsId', 'timeExp(s)', 'PhaseSynchr', 'freq'])"
      ]
     },
     "execution_count": 57,
     "metadata": {},
     "output_type": "execute_result"
    }
   ],
   "source": [
    "res.keys()"
   ]
  },
  {
   "cell_type": "code",
   "execution_count": 61,
   "metadata": {
    "collapsed": false
   },
   "outputs": [
    {
     "data": {
      "text/plain": [
       "<matplotlib.contour.QuadContourSet at 0x10965ccc0>"
      ]
     },
     "execution_count": 61,
     "metadata": {},
     "output_type": "execute_result"
    },
    {
     "data": {
      "image/png": "[encoded data removed]",
      "text/plain": [
       "<Figure size 432x288 with 1 Axes>"
      ]
     },
     "metadata": {},
     "output_type": "display_data"
    }
   ],
   "source": [
    "normWT = res['normWT']\n",
    "plt.contourf(res['timeExp(s)'], res['freq'], normWT[:,:,10], cmap=plt.cm.jet )"
   ]
  },
  {
   "cell_type": "code",
   "execution_count": null,
   "metadata": {
    "collapsed": true
   },
   "outputs": [],
   "source": []
  }
 ],
 "metadata": {
  "kernelspec": {
   "display_name": "Python 3",
   "language": "python",
   "name": "python3"
  },
  "language_info": {
   "codemirror_mode": {
    "name": "ipython",
    "version": 3
   },
   "file_extension": ".py",
   "mimetype": "text/x-python",
   "name": "python",
   "nbconvert_exporter": "python",
   "pygments_lexer": "ipython3",
   "version": "3.5.2"
  }
 },
 "nbformat": 4,
 "nbformat_minor": 1
}
