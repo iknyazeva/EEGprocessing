{
 "cells": [
  {
   "cell_type": "markdown",
   "metadata": {},
   "source": [
    "### Пример процессинга ЭЭГ с помощью класса EEGAnalyser\n",
    "В ходе данного исследования  был проведен эксперимент, направленный на стимуляцию процессов\n",
    "вспоминания и воображения у испытуемых. \n",
    "\n",
    "Эксперимент состоял из трех видов заданий: на память, воображение и\n",
    "сенсорное восприятие и трех соответствующих им контрольных заданий.\n",
    "Каждое задание предъявлялось отдельным блоком, состоящим из 40-80 проб.\n",
    "В общем виде проба состоит из вербального стимула и белого экрана или\n",
    "слайда с изображением. \n",
    "<img src=\"ExperimentDescription.jpg\" style=\"width:70%\">\n",
    "\n",
    " ***Общая схема пробы.*** Длительность проб – 6500 мс, престимульный\n",
    "интервал – 300 мс, длительность первого (вербального) стимула - 400 мс,\n",
    "длительность второго стимула (изображение) 5000 мс, длительность интервала\n",
    "между двумя стимулами в паре – 800 мс. Интервал между пробами\n",
    "рандомизирован – от 700 мс до 1000 мс.\n",
    "\n",
    "В задании на сенсорное восприятие испытуемому в качестве\n",
    "вербального стимула предъявлялось некое слово.Затем необходимо было\n",
    "рассмотреть и запомнить картинку, соответствующую этому вербальному\n",
    "стимулу, и нажать на кнопку после картинки.  В задание на память или репродуктивное воображение также\n",
    "предъявлялось слово в качестве вербального стимула, затем при\n",
    "предъявлении белого экрана испытуемому необходимо было вспомнить и\n",
    "визуализировать картинку, соответствующую предъявленному вербальному\n",
    "стимулу, и нажать на кнопку, если визуализация удалась.\n",
    "Продуктивное или творческое воображение подразумевало задачу\n",
    "придумать и визуализировать химерное изображение. Здесь вербальный\n",
    "стимул содержал уже два слова. Далее, на фоне белого экрана испытуемый\n",
    "должен был вспомнить ранее предъявленные изображения, соответствующие\n",
    "этим словам, придумать и визуализировать на белом экране некий химерный\n",
    "объект из двух изображений. А также нажать на кнопку, если удалось\n",
    "выполнить задание.\n",
    "В контрольных блоках инструкция к заданию отсутствовала. Таким\n",
    "образом, испытуемые после вербального стимула рассматривали картинку\n",
    "или смотрели на белый экран, а после него нажимали кнопку.\n"
   ]
  },
  {
   "cell_type": "code",
   "execution_count": 1,
   "metadata": {
    "collapsed": true
   },
   "outputs": [],
   "source": [
    "import pandas as pd\n",
    "import numpy as np\n",
    "import matplotlib.pyplot as plt\n",
    "import pickle\n",
    "%matplotlib inline\n",
    "import sys\n",
    "sys.path.append('/Users/Irisha1/PycharmProjects/EEGAnalyser/')\n",
    "from EEGProcessing import EEGAnalyser"
   ]
  },
  {
   "cell_type": "code",
   "execution_count": 2,
   "metadata": {
    "collapsed": false
   },
   "outputs": [
    {
     "name": "stdout",
     "output_type": "stream",
     "text": [
      "dict_keys(['Table', 'list_Mem', 'list_Sl', 'list_Im'])\n"
     ]
    }
   ],
   "source": [
    "with open('DATA/EEG_MentalInfo.pickle', 'rb') as f:\n",
    "    EEG_info = pickle.load(f)\n",
    "print(EEG_info.keys() )\n",
    "Im_names = EEG_info['list_Im']\n",
    "Mem_names = EEG_info['list_Mem']\n",
    "Sl_names = EEG_info['list_Sl']\n"
   ]
  },
  {
   "cell_type": "code",
   "execution_count": 3,
   "metadata": {
    "collapsed": true
   },
   "outputs": [],
   "source": [
    "def path_define(name):\n",
    "    sig_number = 'D0000'+str(name)\n",
    "    sigName = 'DATA/CSV/'+ sig_number +'.csv'\n",
    "    timingName = 'DATA/timing/'+sig_number+'.TXT'\n",
    "    failedTrialsName = 'DATA/failed_trials/'+sig_number+'.txt'\n",
    "    return sigName, timingName, failedTrialsName"
   ]
  },
  {
   "cell_type": "code",
   "execution_count": 4,
   "metadata": {
    "collapsed": false
   },
   "outputs": [
    {
     "name": "stdout",
     "output_type": "stream",
     "text": [
      "3480\n"
     ]
    }
   ],
   "source": [
    "#инициализируем объект\n",
    "myExperiment = EEGAnalyser(min_freq = 4, max_freq=30, num_freq=7)\n",
    "#нужно вообще только один раз, чтобы узнать минимальную длину пробы\n",
    "timingPath = 'DATA/timing/'\n",
    "min_trial_len = myExperiment.find_minimal_trial(timingPath)\n",
    "print(myExperiment.min_length)\n"
   ]
  },
  {
   "cell_type": "code",
   "execution_count": 47,
   "metadata": {
    "collapsed": false
   },
   "outputs": [],
   "source": [
    "name = Mem_names[7]\n",
    "sigName, timingName, failedTrialsName = path_define(name)\n",
    "data = myExperiment.load_data(sigName, timingName, failedTrialsName)\n",
    "data = myExperiment.normalize_data()"
   ]
  },
  {
   "cell_type": "code",
   "execution_count": 48,
   "metadata": {
    "collapsed": false
   },
   "outputs": [
    {
     "data": {
      "image/png": "[encoded data removed]",
      "text/plain": [
       "<Figure size 432x288 with 1 Axes>"
      ]
     },
     "metadata": {},
     "output_type": "display_data"
    }
   ],
   "source": [
    "#смотрим какой-нибудь канал\n",
    "plt.plot(data.iloc[:,1]); plt.title('EEG signal for patients with id {}'.format(name));"
   ]
  },
  {
   "cell_type": "code",
   "execution_count": null,
   "metadata": {
    "collapsed": false
   },
   "outputs": [],
   "source": [
    "timeExp = np.arange(min_trial_len)*0.002\n",
    "ERP = myExperiment.computeERP()\n",
    "_=plt.plot(timeExp, ERP)"
   ]
  },
  {
   "cell_type": "code",
   "execution_count": null,
   "metadata": {
    "collapsed": false
   },
   "outputs": [],
   "source": [
    "freq,wt = myExperiment.wavelet_transform()"
   ]
  },
  {
   "cell_type": "code",
   "execution_count": null,
   "metadata": {
    "collapsed": false
   },
   "outputs": [],
   "source": [
    "#Нормируем относительно престимульного интервала. Получаем кандидата на дальнейшее использование\n",
    "normwt = myExperiment.baseline_normalization()\n",
    "normwt.shape"
   ]
  },
  {
   "cell_type": "code",
   "execution_count": null,
   "metadata": {
    "collapsed": false
   },
   "outputs": [],
   "source": [
    "plt.contourf(timeExp, myExperiment.freq, normwt[:,:,6], cmap=plt.cm.jet )"
   ]
  },
  {
   "cell_type": "code",
   "execution_count": null,
   "metadata": {
    "collapsed": true
   },
   "outputs": [],
   "source": [
    "#Если считать это индивидуально для каждой пробы, надо использовать trial_average = False\n",
    "normwtSingle = myExperiment.baseline_normalization(trial_average = False)\n",
    "normwtSingle.shape"
   ]
  },
  {
   "cell_type": "code",
   "execution_count": null,
   "metadata": {
    "collapsed": true
   },
   "outputs": [],
   "source": [
    "ispc = myExperiment.phase_coherence(0,3, num_points = 500)"
   ]
  },
  {
   "cell_type": "code",
   "execution_count": null,
   "metadata": {
    "collapsed": false
   },
   "outputs": [],
   "source": [
    "plt.contourf(ispc['times'] *0.002, myExperiment.freq, ispc['ispc'],20,cmap=plt.cm.jet)"
   ]
  },
  {
   "cell_type": "code",
   "execution_count": null,
   "metadata": {
    "collapsed": true
   },
   "outputs": [],
   "source": []
  }
 ],
 "metadata": {
  "kernelspec": {
   "display_name": "Python 3",
   "language": "python",
   "name": "python3"
  },
  "language_info": {
   "codemirror_mode": {
    "name": "ipython",
    "version": 3
   },
   "file_extension": ".py",
   "mimetype": "text/x-python",
   "name": "python",
   "nbconvert_exporter": "python",
   "pygments_lexer": "ipython3",
   "version": "3.5.2"
  }
 },
 "nbformat": 4,
 "nbformat_minor": 1
}
