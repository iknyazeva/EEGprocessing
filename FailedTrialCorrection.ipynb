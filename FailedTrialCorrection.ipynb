{
 "cells": [
  {
   "cell_type": "markdown",
   "metadata": {},
   "source": [
    "### Удаление плохих триалов из данных\n",
    "Основная идея: eeg  стационарный процесс в слабом смысле, считаем что отсчеты распределены \"нормально\" и если есть большие выбросы - то это идет откуда-то снаружи. Также трендов не должно быть"
   ]
  },
  {
   "cell_type": "code",
   "execution_count": 1,
   "metadata": {
    "collapsed": true
   },
   "outputs": [],
   "source": [
    "import pandas as pd\n",
    "import numpy as np\n",
    "import matplotlib.pyplot as plt\n",
    "import pickle\n",
    "%matplotlib inline"
   ]
  },
  {
   "cell_type": "code",
   "execution_count": 4,
   "metadata": {
    "collapsed": false
   },
   "outputs": [],
   "source": [
    "filename = 'DATA/EEG_MentalInfo.pickle'\n",
    "with open(filename, 'rb') as f:\n",
    "    EEG_info = pickle.load(f)\n",
    "Im_names = EEG_info['list_Im']\n",
    "Mem_names = EEG_info['list_Mem']\n",
    "Sl_names = EEG_info['list_Sl'] \n",
    "Empty_names = EEG_info['list_Empty']\n",
    "EmptySl_names = EEG_info['list_Empty']"
   ]
  },
  {
   "cell_type": "code",
   "execution_count": 5,
   "metadata": {
    "collapsed": true
   },
   "outputs": [],
   "source": [
    "import os.path\n",
    "import sys\n",
    "home = str(os.path.expanduser(\"~\"))\n",
    "path_to_class = os.path.join(home,'PycharmProjects/EEGAnalyser/')\n",
    "sys.path.append(path_to_class)\n",
    "from EEGProcessing import EEGAnalyser"
   ]
  },
  {
   "cell_type": "code",
   "execution_count": 73,
   "metadata": {
    "collapsed": true
   },
   "outputs": [],
   "source": [
    "def path_define(name):\n",
    "    sig_number = 'D0000'+str(name)\n",
    "    sigName = 'DATA/CSV/'+ sig_number +'.csv'\n",
    "    timingName = 'DATA/timing/'+sig_number+'.TXT'\n",
    "    failedTrialsName = 'DATA/failed_trials/'+sig_number+'.txt'\n",
    "    failedTrialsSave = 'DATA/failed_trials/'+sig_number+'Corr.txt'\n",
    "    return sigName, timingName, failedTrialsName, failedTrialsSave"
   ]
  },
  {
   "cell_type": "code",
   "execution_count": 6,
   "metadata": {
    "collapsed": true
   },
   "outputs": [],
   "source": [
    "myExperiment = EEGAnalyser(srate = 500,min_freq = 4, max_freq=30, num_freq=10)\n",
    "myExperiment.min_length = 3480"
   ]
  },
  {
   "cell_type": "code",
   "execution_count": 49,
   "metadata": {
    "collapsed": true
   },
   "outputs": [],
   "source": [
    "def check_failed_trial(data_ch, trial_len = 3480):\n",
    "    \"\"\"\n",
    "    check failed trials\n",
    "    input: numpy 1d array\n",
    "    \n",
    "    \"\"\"\n",
    "    f_tr = []\n",
    "    f_trOut = []\n",
    "    f_trTrend = []\n",
    "    \n",
    "    #check trials with big outliers\n",
    "    \n",
    "\n",
    "    if np.std(data_ch) > 3*np.percentile(data_ch,70):\n",
    "        #print('Find outliers', np.std(data_ch),np.percentile(data_ch,70))\n",
    "        f_trOut= np.unique(np.where(abs(data_ch)>3*np.std(data_ch))[0]//trial_len)\n",
    "          \n",
    "    \n",
    "    #check trials with trend\n",
    "    Ntrials = data_ch.shape[0]//trial_len\n",
    "    mean_trial = np.zeros(Ntrials)\n",
    "    for k in range(Ntrials):\n",
    "        mean_trial[k]= np.mean(data_ch[k*trial_len:(k+1)*trial_len])\n",
    "    perc_70 = np.percentile(np.abs(mean_trial),70)\n",
    "    if np.std(mean_trial)>3*perc_70:\n",
    "        #print(np.std(mean_trial),perc_70)\n",
    "        f_thresh = 3*perc_70 \n",
    "        f_trTrend = np.where(np.abs(mean_trial) > f_thresh)[0]\n",
    "        #print(f_trTrend)\n",
    "    f_tr = list(set(f_trOut).union(set(f_trTrend))) \n",
    " \n",
    "              \n",
    "    return f_tr, mean_trial \n",
    "\n",
    "def drop_failed(data_ch, f_tr, trial_len =  3480):\n",
    "    if len(f_tr)>0:\n",
    "        nTrials = data_ch.shape[0]//trial_len\n",
    "        data_r = np.reshape(data_ch, [trial_len, nTrials], order=\"F\")\n",
    "        data_crop = np.delete(data_r, f_tr, axis=1)\n",
    "        data_crop = data_crop.flatten('F')\n",
    "    else:\n",
    "        data_crop = data_ch\n",
    "    return data_crop\n",
    "\n",
    "def check_all_channel(data, trial_len = 3480):\n",
    "    f_tr = set()\n",
    "    for i in range(19):\n",
    "        f_trSingle, _ = check_failed_trial(data.iloc[:,i].values)\n",
    "        f_tr = f_tr.union(set(f_trSingle))\n",
    "    return list(f_tr) "
   ]
  },
  {
   "cell_type": "code",
   "execution_count": 74,
   "metadata": {
    "collapsed": false
   },
   "outputs": [
    {
     "name": "stdout",
     "output_type": "stream",
     "text": [
      "DATA/CSV/D0000452.csv\n"
     ]
    }
   ],
   "source": [
    "name = Empty_names[5]\n",
    "sigName, timingName, failedTrialsName, failedTrialsSave = path_define(name)\n",
    "print(sigName)\n",
    "data = myExperiment.load_data(sigName, timingName, failedTrialsName)\n",
    "label_list = np.unique(data['LABEL'])\n",
    "data = myExperiment.normalize_data()"
   ]
  },
  {
   "cell_type": "code",
   "execution_count": 51,
   "metadata": {
    "collapsed": false
   },
   "outputs": [
    {
     "data": {
      "image/png": "[encoded data removed]",
      "text/plain": [
       "<Figure size 432x288 with 1 Axes>"
      ]
     },
     "metadata": {},
     "output_type": "display_data"
    }
   ],
   "source": [
    "data.iloc[:,7].plot(); plt.title('EEG signal for patients with id {}'.format(name));"
   ]
  },
  {
   "cell_type": "code",
   "execution_count": 60,
   "metadata": {
    "collapsed": false
   },
   "outputs": [
    {
     "data": {
      "text/plain": [
       "Text(0.5,1,'Modified data')"
      ]
     },
     "execution_count": 60,
     "metadata": {},
     "output_type": "execute_result"
    },
    {
     "data": {
      "image/png": "[encoded data removed]",
      "text/plain": [
       "<Figure size 720x360 with 2 Axes>"
      ]
     },
     "metadata": {},
     "output_type": "display_data"
    }
   ],
   "source": [
    "k=7\n",
    "data_ch= data.iloc[:,k].values\n",
    "f_tr = check_all_channel(data, trial_len = 3480)\n",
    "data_crop = drop_failed(data_ch,f_tr)\n",
    "\n",
    "plt.figure(figsize = (10,5))\n",
    "plt.subplot(1,2,1); plt.plot(data_ch); plt.title('Orginal data')\n",
    "data_crop = drop_failed(data_ch, f_tr)\n",
    "plt.subplot(1,2,2); plt.plot(data_crop); plt.title('Modified data')"
   ]
  },
  {
   "cell_type": "code",
   "execution_count": 88,
   "metadata": {
    "collapsed": false
   },
   "outputs": [],
   "source": [
    "with open(failedTrialsSave, 'w') as f:\n",
    "    f_trOld =np.loadtxt(failedTrialsName).astype(int)\n",
    "    f_trNew = label_list[f_tr]\n",
    "    f_trAll = np.sort(np.concatenate([f_trOld, f_trS]))\n",
    "    np.savetxt(f, f_trAll, fmt = '%d')"
   ]
  },
  {
   "cell_type": "code",
   "execution_count": 83,
   "metadata": {
    "collapsed": true
   },
   "outputs": [],
   "source": [
    "#проверим, что все записалось\n",
    "data = myExperiment.load_data(sigName, timingName, failedTrialsSave)\n",
    "data = myExperiment.normalize_data()"
   ]
  },
  {
   "cell_type": "code",
   "execution_count": 84,
   "metadata": {
    "collapsed": false
   },
   "outputs": [
    {
     "data": {
      "image/png": "[encoded data removed]",
      "text/plain": [
       "<Figure size 432x288 with 1 Axes>"
      ]
     },
     "metadata": {},
     "output_type": "display_data"
    }
   ],
   "source": [
    "data.iloc[:,7].plot(); plt.title('EEG signal for patients with id {}'.format(name));"
   ]
  },
  {
   "cell_type": "code",
   "execution_count": 90,
   "metadata": {
    "collapsed": false
   },
   "outputs": [],
   "source": [
    "### Перезапишем все данные\n",
    "import glob\n",
    "file_list = glob.glob(\"DATA/CSV/*.csv\")"
   ]
  },
  {
   "cell_type": "code",
   "execution_count": 109,
   "metadata": {
    "collapsed": false
   },
   "outputs": [
    {
     "name": "stdout",
     "output_type": "stream",
     "text": [
      "Process file:  DATA/CSV/D0000484.csv\n",
      "Saved updated failed trials to DATA/failed_trials/D0000484Corr.txt\n",
      "Process file:  DATA/CSV/D0000452.csv\n",
      "Saved updated failed trials to DATA/failed_trials/D0000452Corr.txt\n",
      "Process file:  DATA/CSV/D0000446.csv\n",
      "Saved updated failed trials to DATA/failed_trials/D0000446Corr.txt\n",
      "Process file:  DATA/CSV/D0000526.csv\n",
      "Saved updated failed trials to DATA/failed_trials/D0000526Corr.txt\n",
      "Process file:  DATA/CSV/D0000530.csv\n",
      "Saved updated failed trials to DATA/failed_trials/D0000530Corr.txt\n",
      "Process file:  DATA/CSV/D0000487.csv\n",
      "Saved updated failed trials to DATA/failed_trials/D0000487Corr.txt\n",
      "Process file:  DATA/CSV/D0000450.csv\n",
      "Saved updated failed trials to DATA/failed_trials/D0000450Corr.txt\n",
      "Process file:  DATA/CSV/D0000444.csv\n",
      "Saved updated failed trials to DATA/failed_trials/D0000444Corr.txt\n",
      "Process file:  DATA/CSV/D0000478.csv\n",
      "Saved updated failed trials to DATA/failed_trials/D0000478Corr.txt\n",
      "Process file:  DATA/CSV/D0000445.csv\n",
      "Saved updated failed trials to DATA/failed_trials/D0000445Corr.txt\n",
      "Process file:  DATA/CSV/D0000451.csv\n",
      "Saved updated failed trials to DATA/failed_trials/D0000451Corr.txt\n",
      "Process file:  DATA/CSV/D0000531.csv\n",
      "Saved updated failed trials to DATA/failed_trials/D0000531Corr.txt\n",
      "Process file:  DATA/CSV/D0000509.csv\n",
      "Saved updated failed trials to DATA/failed_trials/D0000509Corr.txt\n",
      "Process file:  DATA/CSV/D0000521.csv\n",
      "Saved updated failed trials to DATA/failed_trials/D0000521Corr.txt\n",
      "Process file:  DATA/CSV/D0000535.csv\n",
      "Saved updated failed trials to DATA/failed_trials/D0000535Corr.txt\n",
      "Process file:  DATA/CSV/D0000482.csv\n",
      "Saved updated failed trials to DATA/failed_trials/D0000482Corr.txt\n",
      "Process file:  DATA/CSV/D0000469.csv\n",
      "Saved updated failed trials to DATA/failed_trials/D0000469Corr.txt\n",
      "Process file:  DATA/CSV/D0000455.csv\n",
      "Saved updated failed trials to DATA/failed_trials/D0000455Corr.txt\n",
      "Process file:  DATA/CSV/D0000483.csv\n",
      "Saved updated failed trials to DATA/failed_trials/D0000483Corr.txt\n",
      "Process file:  DATA/CSV/D0000534.csv\n",
      "Saved updated failed trials to DATA/failed_trials/D0000534Corr.txt\n",
      "Process file:  DATA/CSV/D0000520.csv\n",
      "Saved updated failed trials to DATA/failed_trials/D0000520Corr.txt\n",
      "Process file:  DATA/CSV/D0000508.csv\n",
      "Saved updated failed trials to DATA/failed_trials/D0000508Corr.txt\n",
      "Process file:  DATA/CSV/D0000536.csv\n",
      "Saved updated failed trials to DATA/failed_trials/D0000536Corr.txt\n",
      "Process file:  DATA/CSV/D0000522.csv\n",
      "Saved updated failed trials to DATA/failed_trials/D0000522Corr.txt\n",
      "Process file:  DATA/CSV/D0000481.csv\n",
      "Saved updated failed trials to DATA/failed_trials/D0000481Corr.txt\n",
      "Process file:  DATA/CSV/D0000456.csv\n",
      "Saved updated failed trials to DATA/failed_trials/D0000456Corr.txt\n",
      "Process file:  DATA/CSV/D0000457.csv\n",
      "Saved updated failed trials to DATA/failed_trials/D0000457Corr.txt\n",
      "Process file:  DATA/CSV/D0000443.csv\n",
      "Saved updated failed trials to DATA/failed_trials/D0000443Corr.txt\n",
      "Process file:  DATA/CSV/D0000523.csv\n",
      "Saved updated failed trials to DATA/failed_trials/D0000523Corr.txt\n",
      "Process file:  DATA/CSV/D0000537.csv\n",
      "Saved updated failed trials to DATA/failed_trials/D0000537Corr.txt\n",
      "Process file:  DATA/CSV/D0000593.csv\n",
      "Saved updated failed trials to DATA/failed_trials/D0000593Corr.txt\n",
      "Process file:  DATA/CSV/D0000587.csv\n",
      "Saved updated failed trials to DATA/failed_trials/D0000587Corr.txt\n",
      "Process file:  DATA/CSV/D0000578.csv\n",
      "Saved updated failed trials to DATA/failed_trials/D0000578Corr.txt\n",
      "Process file:  DATA/CSV/D0000430.csv\n",
      "Saved updated failed trials to DATA/failed_trials/D0000430Corr.txt\n",
      "Process file:  DATA/CSV/D0000418.csv\n",
      "Saved updated failed trials to DATA/failed_trials/D0000418Corr.txt\n",
      "Process file:  DATA/CSV/D0000419.csv\n",
      "Saved updated failed trials to DATA/failed_trials/D0000419Corr.txt\n",
      "Process file:  DATA/CSV/D0000425.csv\n",
      "Saved updated failed trials to DATA/failed_trials/D0000425Corr.txt\n",
      "Process file:  DATA/CSV/D0000579.csv\n",
      "Saved updated failed trials to DATA/failed_trials/D0000579Corr.txt\n",
      "Process file:  DATA/CSV/D0000551.csv\n",
      "Saved updated failed trials to DATA/failed_trials/D0000551Corr.txt\n",
      "Process file:  DATA/CSV/D0000586.csv\n",
      "Saved updated failed trials to DATA/failed_trials/D0000586Corr.txt\n",
      "Process file:  DATA/CSV/D0000592.csv\n",
      "Saved updated failed trials to DATA/failed_trials/D0000592Corr.txt\n",
      "Process file:  DATA/CSV/D0000584.csv\n",
      "Saved updated failed trials to DATA/failed_trials/D0000584Corr.txt\n",
      "Process file:  DATA/CSV/D0000590.csv\n",
      "Saved updated failed trials to DATA/failed_trials/D0000590Corr.txt\n",
      "Process file:  DATA/CSV/D0000433.csv\n",
      "Saved updated failed trials to DATA/failed_trials/D0000433Corr.txt\n",
      "Process file:  DATA/CSV/D0000427.csv\n",
      "Saved updated failed trials to DATA/failed_trials/D0000427Corr.txt\n",
      "Process file:  DATA/CSV/D0000426.csv\n",
      "Saved updated failed trials to DATA/failed_trials/D0000426Corr.txt\n",
      "Process file:  DATA/CSV/D0000432.csv\n",
      "Saved updated failed trials to DATA/failed_trials/D0000432Corr.txt\n",
      "Process file:  DATA/CSV/D0000591.csv\n",
      "Saved updated failed trials to DATA/failed_trials/D0000591Corr.txt\n",
      "Process file:  DATA/CSV/D0000585.csv\n",
      "Saved updated failed trials to DATA/failed_trials/D0000585Corr.txt\n",
      "Process file:  DATA/CSV/D0000581.csv\n",
      "Saved updated failed trials to DATA/failed_trials/D0000581Corr.txt\n",
      "Process file:  DATA/CSV/D0000595.csv\n",
      "Saved updated failed trials to DATA/failed_trials/D0000595Corr.txt\n",
      "Process file:  DATA/CSV/D0000542.csv\n",
      "Saved updated failed trials to DATA/failed_trials/D0000542Corr.txt\n",
      "Process file:  DATA/CSV/D0000556.csv\n",
      "Saved updated failed trials to DATA/failed_trials/D0000556Corr.txt\n",
      "Process file:  DATA/CSV/D0000422.csv\n",
      "Saved updated failed trials to DATA/failed_trials/D0000422Corr.txt\n",
      "Process file:  DATA/CSV/D0000437.csv\n",
      "Saved updated failed trials to DATA/failed_trials/D0000437Corr.txt\n",
      "Process file:  DATA/CSV/D0000557.csv\n",
      "Saved updated failed trials to DATA/failed_trials/D0000557Corr.txt\n",
      "Process file:  DATA/CSV/D0000594.csv\n",
      "Saved updated failed trials to DATA/failed_trials/D0000594Corr.txt\n",
      "Process file:  DATA/CSV/D0000580.csv\n",
      "Saved updated failed trials to DATA/failed_trials/D0000580Corr.txt\n",
      "Process file:  DATA/CSV/D0000569.csv\n",
      "Saved updated failed trials to DATA/failed_trials/D0000569Corr.txt\n",
      "Process file:  DATA/CSV/D0000555.csv\n",
      "Saved updated failed trials to DATA/failed_trials/D0000555Corr.txt\n",
      "Process file:  DATA/CSV/D0000541.csv\n",
      "Saved updated failed trials to DATA/failed_trials/D0000541Corr.txt\n",
      "Process file:  DATA/CSV/D0000421.csv\n",
      "Saved updated failed trials to DATA/failed_trials/D0000421Corr.txt\n",
      "Process file:  DATA/CSV/D0000434.csv\n",
      "Saved updated failed trials to DATA/failed_trials/D0000434Corr.txt\n",
      "Process file:  DATA/CSV/D0000420.csv\n",
      "Saved updated failed trials to DATA/failed_trials/D0000420Corr.txt\n",
      "Process file:  DATA/CSV/D0000540.csv\n",
      "Saved updated failed trials to DATA/failed_trials/D0000540Corr.txt\n",
      "Process file:  DATA/CSV/D0000554.csv\n",
      "Saved updated failed trials to DATA/failed_trials/D0000554Corr.txt\n",
      "Process file:  DATA/CSV/D0000568.csv\n",
      "Saved updated failed trials to DATA/failed_trials/D0000568Corr.txt\n",
      "Process file:  DATA/CSV/D0000439.csv\n",
      "Saved updated failed trials to DATA/failed_trials/D0000439Corr.txt\n",
      "Process file:  DATA/CSV/D0000607.csv\n",
      "Saved updated failed trials to DATA/failed_trials/D0000607Corr.txt\n",
      "Process file:  DATA/CSV/D0000612.csv\n",
      "Saved updated failed trials to DATA/failed_trials/D0000612Corr.txt\n",
      "Process file:  DATA/CSV/D0000606.csv\n",
      "Saved updated failed trials to DATA/failed_trials/D0000606Corr.txt\n",
      "Process file:  DATA/CSV/D0000438.csv\n",
      "Saved updated failed trials to DATA/failed_trials/D0000438Corr.txt\n",
      "Process file:  DATA/CSV/D0000599.csv\n",
      "Saved updated failed trials to DATA/failed_trials/D0000599Corr.txt\n",
      "Process file:  DATA/CSV/D0000566.csv\n",
      "Saved updated failed trials to DATA/failed_trials/D0000566Corr.txt\n",
      "Process file:  DATA/CSV/D0000572.csv\n",
      "Saved updated failed trials to DATA/failed_trials/D0000572Corr.txt\n",
      "Process file:  DATA/CSV/D0000610.csv\n",
      "Saved updated failed trials to DATA/failed_trials/D0000610Corr.txt\n",
      "Process file:  DATA/CSV/D0000604.csv\n",
      "Saved updated failed trials to DATA/failed_trials/D0000604Corr.txt\n",
      "Process file:  DATA/CSV/D0000605.csv\n",
      "Saved updated failed trials to DATA/failed_trials/D0000605Corr.txt\n",
      "Process file:  DATA/CSV/D0000611.csv\n",
      "Saved updated failed trials to DATA/failed_trials/D0000611Corr.txt\n",
      "Process file:  DATA/CSV/D0000413.csv\n",
      "Saved updated failed trials to DATA/failed_trials/D0000413Corr.txt\n",
      "Process file:  DATA/CSV/D0000573.csv\n",
      "Saved updated failed trials to DATA/failed_trials/D0000573Corr.txt\n",
      "Process file:  DATA/CSV/D0000567.csv\n",
      "Saved updated failed trials to DATA/failed_trials/D0000567Corr.txt\n",
      "Process file:  DATA/CSV/D0000598.csv\n",
      "Saved updated failed trials to DATA/failed_trials/D0000598Corr.txt\n",
      "Process file:  DATA/CSV/D0000563.csv\n",
      "Saved updated failed trials to DATA/failed_trials/D0000563Corr.txt\n",
      "Process file:  DATA/CSV/D0000601.csv\n",
      "Saved updated failed trials to DATA/failed_trials/D0000601Corr.txt\n",
      "Process file:  DATA/CSV/D0000600.csv\n",
      "Saved updated failed trials to DATA/failed_trials/D0000600Corr.txt\n",
      "Process file:  DATA/CSV/D0000562.csv\n",
      "Saved updated failed trials to DATA/failed_trials/D0000562Corr.txt\n",
      "Process file:  DATA/CSV/D0000574.csv\n",
      "Saved updated failed trials to DATA/failed_trials/D0000574Corr.txt\n",
      "Process file:  DATA/CSV/D0000560.csv\n",
      "Saved updated failed trials to DATA/failed_trials/D0000560Corr.txt\n",
      "Process file:  DATA/CSV/D0000428.csv\n",
      "Saved updated failed trials to DATA/failed_trials/D0000428Corr.txt\n",
      "Process file:  DATA/CSV/D0000414.csv\n",
      "Saved updated failed trials to DATA/failed_trials/D0000414Corr.txt\n",
      "Process file:  DATA/CSV/D0000415.csv\n",
      "Saved updated failed trials to DATA/failed_trials/D0000415Corr.txt\n",
      "Process file:  DATA/CSV/D0000429.csv\n",
      "Saved updated failed trials to DATA/failed_trials/D0000429Corr.txt\n",
      "Process file:  DATA/CSV/D0000561.csv\n",
      "Saved updated failed trials to DATA/failed_trials/D0000561Corr.txt\n",
      "Process file:  DATA/CSV/D0000575.csv\n",
      "Saved updated failed trials to DATA/failed_trials/D0000575Corr.txt\n",
      "Process file:  DATA/CSV/D0000506.csv\n",
      "Saved updated failed trials to DATA/failed_trials/D0000506Corr.txt\n",
      "Process file:  DATA/CSV/D0000466.csv\n",
      "Saved updated failed trials to DATA/failed_trials/D0000466Corr.txt\n",
      "Process file:  DATA/CSV/D0000472.csv\n",
      "Saved updated failed trials to DATA/failed_trials/D0000472Corr.txt\n",
      "Process file:  DATA/CSV/D0000507.csv\n",
      "Saved updated failed trials to DATA/failed_trials/D0000507Corr.txt\n",
      "Process file:  DATA/CSV/D0000511.csv\n",
      "Saved updated failed trials to DATA/failed_trials/D0000511Corr.txt\n",
      "Process file:  DATA/CSV/D0000471.csv\n",
      "Saved updated failed trials to DATA/failed_trials/D0000471Corr.txt\n",
      "Process file:  DATA/CSV/D0000465.csv\n",
      "Saved updated failed trials to DATA/failed_trials/D0000465Corr.txt\n",
      "Process file:  DATA/CSV/D0000459.csv\n",
      "Saved updated failed trials to DATA/failed_trials/D0000459Corr.txt\n",
      "Process file:  DATA/CSV/D0000458.csv\n",
      "Saved updated failed trials to DATA/failed_trials/D0000458Corr.txt\n",
      "Process file:  DATA/CSV/D0000464.csv\n",
      "Saved updated failed trials to DATA/failed_trials/D0000464Corr.txt\n",
      "Process file:  DATA/CSV/D0000470.csv\n",
      "Saved updated failed trials to DATA/failed_trials/D0000470Corr.txt\n",
      "Process file:  DATA/CSV/D0000510.csv\n",
      "Saved updated failed trials to DATA/failed_trials/D0000510Corr.txt\n",
      "Process file:  DATA/CSV/D0000528.csv\n",
      "Saved updated failed trials to DATA/failed_trials/D0000528Corr.txt\n",
      "Process file:  DATA/CSV/D0000500.csv\n",
      "Saved updated failed trials to DATA/failed_trials/D0000500Corr.txt\n",
      "Process file:  DATA/CSV/D0000514.csv\n",
      "Saved updated failed trials to DATA/failed_trials/D0000514Corr.txt\n",
      "Process file:  DATA/CSV/D0000460.csv\n",
      "Saved updated failed trials to DATA/failed_trials/D0000460Corr.txt\n",
      "Process file:  DATA/CSV/D0000475.csv\n",
      "Saved updated failed trials to DATA/failed_trials/D0000475Corr.txt\n",
      "Process file:  DATA/CSV/D0000449.csv\n",
      "Saved updated failed trials to DATA/failed_trials/D0000449Corr.txt\n",
      "Process file:  DATA/CSV/D0000515.csv\n",
      "Saved updated failed trials to DATA/failed_trials/D0000515Corr.txt\n",
      "Process file:  DATA/CSV/D0000501.csv\n",
      "Saved updated failed trials to DATA/failed_trials/D0000501Corr.txt\n",
      "Process file:  DATA/CSV/D0000529.csv\n",
      "Saved updated failed trials to DATA/failed_trials/D0000529Corr.txt\n",
      "Process file:  DATA/CSV/D0000517.csv\n",
      "Saved updated failed trials to DATA/failed_trials/D0000517Corr.txt\n",
      "Process file:  DATA/CSV/D0000503.csv\n",
      "Saved updated failed trials to DATA/failed_trials/D0000503Corr.txt\n",
      "Process file:  DATA/CSV/D0000488.csv\n",
      "Saved updated failed trials to DATA/failed_trials/D0000488Corr.txt\n",
      "Process file:  DATA/CSV/D0000463.csv\n",
      "Saved updated failed trials to DATA/failed_trials/D0000463Corr.txt\n",
      "Process file:  DATA/CSV/D0000477.csv\n",
      "Saved updated failed trials to DATA/failed_trials/D0000477Corr.txt\n",
      "Process file:  DATA/CSV/D0000476.csv\n",
      "Saved updated failed trials to DATA/failed_trials/D0000476Corr.txt\n",
      "Process file:  DATA/CSV/D0000489.csv\n",
      "Saved updated failed trials to DATA/failed_trials/D0000489Corr.txt\n",
      "Process file:  DATA/CSV/D0000502.csv\n",
      "Saved updated failed trials to DATA/failed_trials/D0000502Corr.txt\n",
      "Process file:  DATA/CSV/D0000516.csv\n",
      "Saved updated failed trials to DATA/failed_trials/D0000516Corr.txt\n"
     ]
    }
   ],
   "source": [
    "numbers = [os.path.basename(file)[5:8] for file in file_list]\n",
    "for number in numbers[1:]:\n",
    "\n",
    "    sigName, timingName, failedTrialsName, failedTrialsSave = path_define(number)\n",
    "    #if os.path.isfile(failedTrialsSave):\n",
    "    #    print('File already exist', failedTrialsSave )\n",
    "    #    continue\n",
    "    print('Process file: ', sigName)\n",
    "    data = myExperiment.load_data(sigName, timingName, failedTrialsName)\n",
    "    label_list = np.unique(data['LABEL'])\n",
    "    data = myExperiment.normalize_data()\n",
    "    f_tr = check_all_channel(data, trial_len = 3480)\n",
    "    with open(failedTrialsSave, 'w') as f:\n",
    "        f_trOld =np.loadtxt(failedTrialsName).astype(int)\n",
    "        f_trNew = label_list[f_tr]\n",
    "        f_trAll = np.sort(np.concatenate([f_trOld, f_trNew]))\n",
    "        np.savetxt(f, f_trAll, fmt = '%d')\n",
    "        print('Saved updated failed trials to', failedTrialsSave)"
   ]
  },
  {
   "cell_type": "code",
   "execution_count": 105,
   "metadata": {
    "collapsed": false
   },
   "outputs": [],
   "source": [
    "number = '413'\n",
    "sigName, timingName, failedTrialsName, failedTrialsSave = path_define(number)\n",
    "data = myExperiment.load_data(sigName, timingName, failedTrialsName)"
   ]
  },
  {
   "cell_type": "code",
   "execution_count": 106,
   "metadata": {
    "collapsed": false
   },
   "outputs": [],
   "source": [
    "label_list = np.unique(data['LABEL'])"
   ]
  },
  {
   "cell_type": "code",
   "execution_count": 107,
   "metadata": {
    "collapsed": false
   },
   "outputs": [
    {
     "data": {
      "text/plain": [
       "array([11, 14, 16, 17, 20, 21, 22, 24, 26, 29, 30, 32, 33, 34, 37, 38, 39,\n",
       "       40, 46, 48, 49, 50, 51, 52, 53, 56, 57, 58, 62, 63, 65, 66, 67])"
      ]
     },
     "execution_count": 107,
     "metadata": {},
     "output_type": "execute_result"
    }
   ],
   "source": [
    "label_list"
   ]
  },
  {
   "cell_type": "code",
   "execution_count": null,
   "metadata": {
    "collapsed": true
   },
   "outputs": [],
   "source": []
  }
 ],
 "metadata": {
  "kernelspec": {
   "display_name": "Python 3",
   "language": "python",
   "name": "python3"
  },
  "language_info": {
   "codemirror_mode": {
    "name": "ipython",
    "version": 3
   },
   "file_extension": ".py",
   "mimetype": "text/x-python",
   "name": "python",
   "nbconvert_exporter": "python",
   "pygments_lexer": "ipython3",
   "version": "3.5.2"
  }
 },
 "nbformat": 4,
 "nbformat_minor": 1
}
